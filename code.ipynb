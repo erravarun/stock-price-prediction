{
 "cells": [
  {
   "cell_type": "code",
   "execution_count": 7,
   "metadata": {},
   "outputs": [],
   "source": [
    "import pandas_datareader as pdr\n"
   ]
  },
  {
   "cell_type": "code",
   "execution_count": 10,
   "metadata": {},
   "outputs": [
    {
     "name": "stdout",
     "output_type": "stream",
     "text": [
      "^C\n",
      "Note: you may need to restart the kernel to use updated packages.\n"
     ]
    }
   ],
   "source": [
    "pip install pandas_datareader"
   ]
  },
  {
   "cell_type": "code",
   "execution_count": 8,
   "metadata": {},
   "outputs": [],
   "source": [
    "import pandas_datareader as pdr"
   ]
  },
  {
   "cell_type": "code",
   "execution_count": 9,
   "metadata": {},
   "outputs": [
    {
     "name": "stderr",
     "output_type": "stream",
     "text": [
      "C:\\Users\\Varun Kumar\\AppData\\Roaming\\Python\\Python310\\site-packages\\pandas_datareader\\tiingo.py:234: FutureWarning: In a future version of pandas all arguments of concat except for the argument 'objs' will be keyword-only.\n",
      "  return pd.concat(dfs, self._concat_axis)\n"
     ]
    }
   ],
   "source": [
    "df = pdr.get_data_tiingo('MSFT',api_key = '41421f36579d43c0c53acb10747915ed921f05a8')"
   ]
  },
  {
   "cell_type": "code",
   "execution_count": 10,
   "metadata": {},
   "outputs": [],
   "source": [
    "df.to_csv('MSFT.csv ')"
   ]
  },
  {
   "cell_type": "code",
   "execution_count": 11,
   "metadata": {},
   "outputs": [
    {
     "data": {
      "text/html": [
       "<div>\n",
       "<style scoped>\n",
       "    .dataframe tbody tr th:only-of-type {\n",
       "        vertical-align: middle;\n",
       "    }\n",
       "\n",
       "    .dataframe tbody tr th {\n",
       "        vertical-align: top;\n",
       "    }\n",
       "\n",
       "    .dataframe thead th {\n",
       "        text-align: right;\n",
       "    }\n",
       "</style>\n",
       "<table border=\"1\" class=\"dataframe\">\n",
       "  <thead>\n",
       "    <tr style=\"text-align: right;\">\n",
       "      <th></th>\n",
       "      <th></th>\n",
       "      <th>close</th>\n",
       "      <th>high</th>\n",
       "      <th>low</th>\n",
       "      <th>open</th>\n",
       "      <th>volume</th>\n",
       "      <th>adjClose</th>\n",
       "      <th>adjHigh</th>\n",
       "      <th>adjLow</th>\n",
       "      <th>adjOpen</th>\n",
       "      <th>adjVolume</th>\n",
       "      <th>divCash</th>\n",
       "      <th>splitFactor</th>\n",
       "    </tr>\n",
       "    <tr>\n",
       "      <th>symbol</th>\n",
       "      <th>date</th>\n",
       "      <th></th>\n",
       "      <th></th>\n",
       "      <th></th>\n",
       "      <th></th>\n",
       "      <th></th>\n",
       "      <th></th>\n",
       "      <th></th>\n",
       "      <th></th>\n",
       "      <th></th>\n",
       "      <th></th>\n",
       "      <th></th>\n",
       "      <th></th>\n",
       "    </tr>\n",
       "  </thead>\n",
       "  <tbody>\n",
       "    <tr>\n",
       "      <th rowspan=\"11\" valign=\"top\">MSFT</th>\n",
       "      <th>2018-04-02 00:00:00+00:00</th>\n",
       "      <td>88.52</td>\n",
       "      <td>90.8800</td>\n",
       "      <td>87.5100</td>\n",
       "      <td>90.47</td>\n",
       "      <td>48515417</td>\n",
       "      <td>83.516581</td>\n",
       "      <td>85.743186</td>\n",
       "      <td>82.563669</td>\n",
       "      <td>85.356361</td>\n",
       "      <td>48515417</td>\n",
       "      <td>0.0</td>\n",
       "      <td>1.0</td>\n",
       "    </tr>\n",
       "    <tr>\n",
       "      <th>2018-04-03 00:00:00+00:00</th>\n",
       "      <td>89.71</td>\n",
       "      <td>90.0500</td>\n",
       "      <td>87.8900</td>\n",
       "      <td>89.58</td>\n",
       "      <td>37213837</td>\n",
       "      <td>84.639318</td>\n",
       "      <td>84.960100</td>\n",
       "      <td>82.922190</td>\n",
       "      <td>84.516666</td>\n",
       "      <td>37213837</td>\n",
       "      <td>0.0</td>\n",
       "      <td>1.0</td>\n",
       "    </tr>\n",
       "    <tr>\n",
       "      <th>2018-04-04 00:00:00+00:00</th>\n",
       "      <td>92.33</td>\n",
       "      <td>92.7600</td>\n",
       "      <td>87.7300</td>\n",
       "      <td>87.85</td>\n",
       "      <td>35559956</td>\n",
       "      <td>87.111228</td>\n",
       "      <td>87.516923</td>\n",
       "      <td>82.771234</td>\n",
       "      <td>82.884451</td>\n",
       "      <td>35559956</td>\n",
       "      <td>0.0</td>\n",
       "      <td>1.0</td>\n",
       "    </tr>\n",
       "    <tr>\n",
       "      <th>2018-04-05 00:00:00+00:00</th>\n",
       "      <td>92.38</td>\n",
       "      <td>93.0700</td>\n",
       "      <td>91.4000</td>\n",
       "      <td>92.44</td>\n",
       "      <td>29771881</td>\n",
       "      <td>87.158402</td>\n",
       "      <td>87.809401</td>\n",
       "      <td>86.233794</td>\n",
       "      <td>87.215010</td>\n",
       "      <td>29771881</td>\n",
       "      <td>0.0</td>\n",
       "      <td>1.0</td>\n",
       "    </tr>\n",
       "    <tr>\n",
       "      <th>2018-04-06 00:00:00+00:00</th>\n",
       "      <td>90.23</td>\n",
       "      <td>92.4600</td>\n",
       "      <td>89.4800</td>\n",
       "      <td>91.49</td>\n",
       "      <td>38026000</td>\n",
       "      <td>85.129926</td>\n",
       "      <td>87.233880</td>\n",
       "      <td>84.422318</td>\n",
       "      <td>86.318707</td>\n",
       "      <td>38026000</td>\n",
       "      <td>0.0</td>\n",
       "      <td>1.0</td>\n",
       "    </tr>\n",
       "    <tr>\n",
       "      <th>...</th>\n",
       "      <td>...</td>\n",
       "      <td>...</td>\n",
       "      <td>...</td>\n",
       "      <td>...</td>\n",
       "      <td>...</td>\n",
       "      <td>...</td>\n",
       "      <td>...</td>\n",
       "      <td>...</td>\n",
       "      <td>...</td>\n",
       "      <td>...</td>\n",
       "      <td>...</td>\n",
       "      <td>...</td>\n",
       "    </tr>\n",
       "    <tr>\n",
       "      <th>2023-03-24 00:00:00+00:00</th>\n",
       "      <td>280.57</td>\n",
       "      <td>280.6300</td>\n",
       "      <td>275.2800</td>\n",
       "      <td>277.24</td>\n",
       "      <td>28199962</td>\n",
       "      <td>280.570000</td>\n",
       "      <td>280.630000</td>\n",
       "      <td>275.280000</td>\n",
       "      <td>277.240000</td>\n",
       "      <td>28199962</td>\n",
       "      <td>0.0</td>\n",
       "      <td>1.0</td>\n",
       "    </tr>\n",
       "    <tr>\n",
       "      <th>2023-03-27 00:00:00+00:00</th>\n",
       "      <td>276.38</td>\n",
       "      <td>281.4589</td>\n",
       "      <td>275.5200</td>\n",
       "      <td>280.50</td>\n",
       "      <td>26840212</td>\n",
       "      <td>276.380000</td>\n",
       "      <td>281.458900</td>\n",
       "      <td>275.520000</td>\n",
       "      <td>280.500000</td>\n",
       "      <td>26840212</td>\n",
       "      <td>0.0</td>\n",
       "      <td>1.0</td>\n",
       "    </tr>\n",
       "    <tr>\n",
       "      <th>2023-03-28 00:00:00+00:00</th>\n",
       "      <td>275.23</td>\n",
       "      <td>276.1400</td>\n",
       "      <td>272.0451</td>\n",
       "      <td>275.79</td>\n",
       "      <td>21878647</td>\n",
       "      <td>275.230000</td>\n",
       "      <td>276.140000</td>\n",
       "      <td>272.045100</td>\n",
       "      <td>275.790000</td>\n",
       "      <td>21878647</td>\n",
       "      <td>0.0</td>\n",
       "      <td>1.0</td>\n",
       "    </tr>\n",
       "    <tr>\n",
       "      <th>2023-03-29 00:00:00+00:00</th>\n",
       "      <td>280.51</td>\n",
       "      <td>281.1398</td>\n",
       "      <td>278.4100</td>\n",
       "      <td>278.96</td>\n",
       "      <td>25087032</td>\n",
       "      <td>280.510000</td>\n",
       "      <td>281.139800</td>\n",
       "      <td>278.410000</td>\n",
       "      <td>278.960000</td>\n",
       "      <td>25087032</td>\n",
       "      <td>0.0</td>\n",
       "      <td>1.0</td>\n",
       "    </tr>\n",
       "    <tr>\n",
       "      <th>2023-03-30 00:00:00+00:00</th>\n",
       "      <td>284.05</td>\n",
       "      <td>284.4600</td>\n",
       "      <td>281.4800</td>\n",
       "      <td>284.23</td>\n",
       "      <td>25053410</td>\n",
       "      <td>284.050000</td>\n",
       "      <td>284.460000</td>\n",
       "      <td>281.480000</td>\n",
       "      <td>284.230000</td>\n",
       "      <td>25053410</td>\n",
       "      <td>0.0</td>\n",
       "      <td>1.0</td>\n",
       "    </tr>\n",
       "  </tbody>\n",
       "</table>\n",
       "<p>1259 rows × 12 columns</p>\n",
       "</div>"
      ],
      "text/plain": [
       "                                   close      high       low    open  \\\n",
       "symbol date                                                            \n",
       "MSFT   2018-04-02 00:00:00+00:00   88.52   90.8800   87.5100   90.47   \n",
       "       2018-04-03 00:00:00+00:00   89.71   90.0500   87.8900   89.58   \n",
       "       2018-04-04 00:00:00+00:00   92.33   92.7600   87.7300   87.85   \n",
       "       2018-04-05 00:00:00+00:00   92.38   93.0700   91.4000   92.44   \n",
       "       2018-04-06 00:00:00+00:00   90.23   92.4600   89.4800   91.49   \n",
       "...                                  ...       ...       ...     ...   \n",
       "       2023-03-24 00:00:00+00:00  280.57  280.6300  275.2800  277.24   \n",
       "       2023-03-27 00:00:00+00:00  276.38  281.4589  275.5200  280.50   \n",
       "       2023-03-28 00:00:00+00:00  275.23  276.1400  272.0451  275.79   \n",
       "       2023-03-29 00:00:00+00:00  280.51  281.1398  278.4100  278.96   \n",
       "       2023-03-30 00:00:00+00:00  284.05  284.4600  281.4800  284.23   \n",
       "\n",
       "                                    volume    adjClose     adjHigh  \\\n",
       "symbol date                                                          \n",
       "MSFT   2018-04-02 00:00:00+00:00  48515417   83.516581   85.743186   \n",
       "       2018-04-03 00:00:00+00:00  37213837   84.639318   84.960100   \n",
       "       2018-04-04 00:00:00+00:00  35559956   87.111228   87.516923   \n",
       "       2018-04-05 00:00:00+00:00  29771881   87.158402   87.809401   \n",
       "       2018-04-06 00:00:00+00:00  38026000   85.129926   87.233880   \n",
       "...                                    ...         ...         ...   \n",
       "       2023-03-24 00:00:00+00:00  28199962  280.570000  280.630000   \n",
       "       2023-03-27 00:00:00+00:00  26840212  276.380000  281.458900   \n",
       "       2023-03-28 00:00:00+00:00  21878647  275.230000  276.140000   \n",
       "       2023-03-29 00:00:00+00:00  25087032  280.510000  281.139800   \n",
       "       2023-03-30 00:00:00+00:00  25053410  284.050000  284.460000   \n",
       "\n",
       "                                      adjLow     adjOpen  adjVolume  divCash  \\\n",
       "symbol date                                                                    \n",
       "MSFT   2018-04-02 00:00:00+00:00   82.563669   85.356361   48515417      0.0   \n",
       "       2018-04-03 00:00:00+00:00   82.922190   84.516666   37213837      0.0   \n",
       "       2018-04-04 00:00:00+00:00   82.771234   82.884451   35559956      0.0   \n",
       "       2018-04-05 00:00:00+00:00   86.233794   87.215010   29771881      0.0   \n",
       "       2018-04-06 00:00:00+00:00   84.422318   86.318707   38026000      0.0   \n",
       "...                                      ...         ...        ...      ...   \n",
       "       2023-03-24 00:00:00+00:00  275.280000  277.240000   28199962      0.0   \n",
       "       2023-03-27 00:00:00+00:00  275.520000  280.500000   26840212      0.0   \n",
       "       2023-03-28 00:00:00+00:00  272.045100  275.790000   21878647      0.0   \n",
       "       2023-03-29 00:00:00+00:00  278.410000  278.960000   25087032      0.0   \n",
       "       2023-03-30 00:00:00+00:00  281.480000  284.230000   25053410      0.0   \n",
       "\n",
       "                                  splitFactor  \n",
       "symbol date                                    \n",
       "MSFT   2018-04-02 00:00:00+00:00          1.0  \n",
       "       2018-04-03 00:00:00+00:00          1.0  \n",
       "       2018-04-04 00:00:00+00:00          1.0  \n",
       "       2018-04-05 00:00:00+00:00          1.0  \n",
       "       2018-04-06 00:00:00+00:00          1.0  \n",
       "...                                       ...  \n",
       "       2023-03-24 00:00:00+00:00          1.0  \n",
       "       2023-03-27 00:00:00+00:00          1.0  \n",
       "       2023-03-28 00:00:00+00:00          1.0  \n",
       "       2023-03-29 00:00:00+00:00          1.0  \n",
       "       2023-03-30 00:00:00+00:00          1.0  \n",
       "\n",
       "[1259 rows x 12 columns]"
      ]
     },
     "execution_count": 11,
     "metadata": {},
     "output_type": "execute_result"
    }
   ],
   "source": [
    "df"
   ]
  },
  {
   "cell_type": "code",
   "execution_count": 12,
   "metadata": {},
   "outputs": [],
   "source": [
    "import pandas as pd"
   ]
  },
  {
   "cell_type": "code",
   "execution_count": 13,
   "metadata": {},
   "outputs": [],
   "source": [
    "df = pd.read_csv('MSFT.csv')"
   ]
  },
  {
   "cell_type": "code",
   "execution_count": 14,
   "metadata": {},
   "outputs": [],
   "source": [
    "df2 = df.reset_index()['open']"
   ]
  },
  {
   "cell_type": "code",
   "execution_count": 15,
   "metadata": {},
   "outputs": [
    {
     "data": {
      "text/plain": [
       "pandas.core.series.Series"
      ]
     },
     "execution_count": 15,
     "metadata": {},
     "output_type": "execute_result"
    }
   ],
   "source": [
    "type(df2)"
   ]
  },
  {
   "cell_type": "code",
   "execution_count": 16,
   "metadata": {},
   "outputs": [
    {
     "data": {
      "text/plain": [
       "[<matplotlib.lines.Line2D at 0x1ef7c89b640>]"
      ]
     },
     "execution_count": 16,
     "metadata": {},
     "output_type": "execute_result"
    },
    {
     "data": {
      "image/png": "[encoded data removed]",
      "text/plain": [
       "<Figure size 640x480 with 1 Axes>"
      ]
     },
     "metadata": {},
     "output_type": "display_data"
    }
   ],
   "source": [
    "import matplotlib.pyplot as plt\n",
    "plt.plot(df2)"
   ]
  },
  {
   "cell_type": "code",
   "execution_count": 17,
   "metadata": {},
   "outputs": [],
   "source": [
    "import numpy as np"
   ]
  },
  {
   "cell_type": "code",
   "execution_count": 18,
   "metadata": {},
   "outputs": [],
   "source": [
    "from sklearn.preprocessing import MinMaxScaler\n",
    "scaler = MinMaxScaler(feature_range = (0,1))\n",
    "df2 = scaler.fit_transform(np.array(df2).reshape(-1,1))\n"
   ]
  },
  {
   "cell_type": "code",
   "execution_count": 19,
   "metadata": {},
   "outputs": [
    {
     "data": {
      "text/plain": [
       "array([[0.01020368],\n",
       "       [0.00673755],\n",
       "       [0.        ],\n",
       "       ...,\n",
       "       [0.73193909],\n",
       "       [0.74428477],\n",
       "       [0.76480897]])"
      ]
     },
     "execution_count": 19,
     "metadata": {},
     "output_type": "execute_result"
    }
   ],
   "source": [
    "df2"
   ]
  },
  {
   "cell_type": "code",
   "execution_count": 20,
   "metadata": {},
   "outputs": [],
   "source": [
    "training_size = int(len(df2)*0.75)\n",
    "test_size = len(df2) - training_size"
   ]
  },
  {
   "cell_type": "code",
   "execution_count": 21,
   "metadata": {},
   "outputs": [],
   "source": [
    "import numpy\n",
    "def create_dataset(dataset,time_step = 1):\n",
    "    dataX, dataY = [],[]\n",
    "    for i in range(len(dataset) - time_step - 1):\n",
    "        a = dataset[i:(i+time_step),0]\n",
    "        dataX.append(a)\n",
    "        dataY.append(dataset[i+time_step,0])\n",
    "    return numpy.array(dataX), numpy.array(dataY)"
   ]
  },
  {
   "cell_type": "code",
   "execution_count": 22,
   "metadata": {},
   "outputs": [],
   "source": [
    "time_step = 100\n",
    "train_data,test_data=df2[0:training_size,:],df2[training_size:len(df2),:1]\n",
    "X_train, y_train = create_dataset(train_data, time_step)\n",
    "X_test, y_test = create_dataset(test_data, time_step)"
   ]
  },
  {
   "cell_type": "code",
   "execution_count": 23,
   "metadata": {},
   "outputs": [
    {
     "data": {
      "text/plain": [
       "(843, 100)"
      ]
     },
     "execution_count": 23,
     "metadata": {},
     "output_type": "execute_result"
    }
   ],
   "source": [
    "X_train.shape"
   ]
  },
  {
   "cell_type": "code",
   "execution_count": 44,
   "metadata": {},
   "outputs": [
    {
     "name": "stdout",
     "output_type": "stream",
     "text": [
      "Defaulting to user installation because normal site-packages is not writeableNote: you may need to restart the kernel to use updated packages.\n",
      "\n"
     ]
    },
    {
     "name": "stderr",
     "output_type": "stream",
     "text": [
      "WARNING: Retrying (Retry(total=4, connect=None, read=None, redirect=None, status=None)) after connection broken by 'NewConnectionError('<pip._vendor.urllib3.connection.HTTPSConnection object at 0x000001452DB97550>: Failed to establish a new connection: [Errno 11001] getaddrinfo failed')': /simple/tensorflow/\n",
      "WARNING: Retrying (Retry(total=3, connect=None, read=None, redirect=None, status=None)) after connection broken by 'NewConnectionError('<pip._vendor.urllib3.connection.HTTPSConnection object at 0x000001452DB97850>: Failed to establish a new connection: [Errno 11001] getaddrinfo failed')': /simple/tensorflow/\n",
      "WARNING: Retrying (Retry(total=2, connect=None, read=None, redirect=None, status=None)) after connection broken by 'NewConnectionError('<pip._vendor.urllib3.connection.HTTPSConnection object at 0x000001452DB97A00>: Failed to establish a new connection: [Errno 11001] getaddrinfo failed')': /simple/tensorflow/\n",
      "WARNING: Retrying (Retry(total=1, connect=None, read=None, redirect=None, status=None)) after connection broken by 'NewConnectionError('<pip._vendor.urllib3.connection.HTTPSConnection object at 0x000001452DB97BB0>: Failed to establish a new connection: [Errno 11001] getaddrinfo failed')': /simple/tensorflow/\n",
      "WARNING: Retrying (Retry(total=0, connect=None, read=None, redirect=None, status=None)) after connection broken by 'NewConnectionError('<pip._vendor.urllib3.connection.HTTPSConnection object at 0x000001452DB97D60>: Failed to establish a new connection: [Errno 11001] getaddrinfo failed')': /simple/tensorflow/\n",
      "ERROR: Could not find a version that satisfies the requirement tensorflow (from versions: none)\n",
      "ERROR: No matching distribution found for tensorflow\n",
      "WARNING: There was an error checking the latest version of pip.\n"
     ]
    }
   ],
   "source": []
  },
  {
   "cell_type": "code",
   "execution_count": 24,
   "metadata": {},
   "outputs": [],
   "source": [
    "from tensorflow.keras.models import Sequential\n",
    "from tensorflow.keras.layers import Dense\n",
    "from tensorflow.keras.layers import LSTM"
   ]
  },
  {
   "cell_type": "code",
   "execution_count": 25,
   "metadata": {},
   "outputs": [],
   "source": [
    "model=Sequential()\n",
    "model.add(LSTM(50,return_sequences=True,input_shape=(100,1)))\n",
    "model.add(LSTM(50,return_sequences=True))\n",
    "model.add(LSTM(50))\n",
    "model.add(Dense(1))\n",
    "model.compile(loss='mean_squared_error',optimizer='adam')"
   ]
  },
  {
   "cell_type": "code",
   "execution_count": 26,
   "metadata": {},
   "outputs": [
    {
     "name": "stdout",
     "output_type": "stream",
     "text": [
      "Model: \"sequential\"\n",
      "_________________________________________________________________\n",
      " Layer (type)                Output Shape              Param #   \n",
      "=================================================================\n",
      " lstm (LSTM)                 (None, 100, 50)           10400     \n",
      "                                                                 \n",
      " lstm_1 (LSTM)               (None, 100, 50)           20200     \n",
      "                                                                 \n",
      " lstm_2 (LSTM)               (None, 50)                20200     \n",
      "                                                                 \n",
      " dense (Dense)               (None, 1)                 51        \n",
      "                                                                 \n",
      "=================================================================\n",
      "Total params: 50,851\n",
      "Trainable params: 50,851\n",
      "Non-trainable params: 0\n",
      "_________________________________________________________________\n"
     ]
    }
   ],
   "source": [
    "model.summary()"
   ]
  },
  {
   "cell_type": "code",
   "execution_count": 27,
   "metadata": {},
   "outputs": [
    {
     "name": "stdout",
     "output_type": "stream",
     "text": [
      "Epoch 1/100\n",
      "14/14 [==============================] - 11s 311ms/step - loss: 0.0697 - val_loss: 0.0190\n",
      "Epoch 2/100\n",
      "14/14 [==============================] - 2s 172ms/step - loss: 0.0126 - val_loss: 0.0110\n",
      "Epoch 3/100\n",
      "14/14 [==============================] - 3s 183ms/step - loss: 0.0034 - val_loss: 0.0047\n",
      "Epoch 4/100\n",
      "14/14 [==============================] - 3s 234ms/step - loss: 0.0014 - val_loss: 0.0033\n",
      "Epoch 5/100\n",
      "14/14 [==============================] - 3s 229ms/step - loss: 0.0010 - val_loss: 0.0028\n",
      "Epoch 6/100\n",
      "14/14 [==============================] - 3s 225ms/step - loss: 9.0367e-04 - val_loss: 0.0027\n",
      "Epoch 7/100\n",
      "14/14 [==============================] - 3s 200ms/step - loss: 9.0855e-04 - val_loss: 0.0030\n",
      "Epoch 8/100\n",
      "14/14 [==============================] - 3s 189ms/step - loss: 9.6683e-04 - val_loss: 0.0032\n",
      "Epoch 9/100\n",
      "14/14 [==============================] - 3s 207ms/step - loss: 8.9638e-04 - val_loss: 0.0025\n",
      "Epoch 10/100\n",
      "14/14 [==============================] - 2s 169ms/step - loss: 9.2639e-04 - val_loss: 0.0027\n",
      "Epoch 11/100\n",
      "14/14 [==============================] - 2s 152ms/step - loss: 9.0040e-04 - val_loss: 0.0025\n",
      "Epoch 12/100\n",
      "14/14 [==============================] - 2s 161ms/step - loss: 8.9298e-04 - val_loss: 0.0025\n",
      "Epoch 13/100\n",
      "14/14 [==============================] - 3s 181ms/step - loss: 9.0685e-04 - val_loss: 0.0029\n",
      "Epoch 14/100\n",
      "14/14 [==============================] - 2s 179ms/step - loss: 8.8518e-04 - val_loss: 0.0025\n",
      "Epoch 15/100\n",
      "14/14 [==============================] - 2s 177ms/step - loss: 9.4183e-04 - val_loss: 0.0024\n",
      "Epoch 16/100\n",
      "14/14 [==============================] - 2s 168ms/step - loss: 0.0011 - val_loss: 0.0023\n",
      "Epoch 17/100\n",
      "14/14 [==============================] - 2s 172ms/step - loss: 8.7624e-04 - val_loss: 0.0028\n",
      "Epoch 18/100\n",
      "14/14 [==============================] - 2s 162ms/step - loss: 8.6231e-04 - val_loss: 0.0037\n",
      "Epoch 19/100\n",
      "14/14 [==============================] - 2s 168ms/step - loss: 8.5835e-04 - val_loss: 0.0026\n",
      "Epoch 20/100\n",
      "14/14 [==============================] - 2s 168ms/step - loss: 8.4482e-04 - val_loss: 0.0022\n",
      "Epoch 21/100\n",
      "14/14 [==============================] - 2s 170ms/step - loss: 8.7133e-04 - val_loss: 0.0030\n",
      "Epoch 22/100\n",
      "14/14 [==============================] - 2s 168ms/step - loss: 8.5336e-04 - val_loss: 0.0027\n",
      "Epoch 23/100\n",
      "14/14 [==============================] - 2s 159ms/step - loss: 8.7117e-04 - val_loss: 0.0022\n",
      "Epoch 24/100\n",
      "14/14 [==============================] - 2s 168ms/step - loss: 8.2465e-04 - val_loss: 0.0023\n",
      "Epoch 25/100\n",
      "14/14 [==============================] - 2s 173ms/step - loss: 8.0938e-04 - val_loss: 0.0021\n",
      "Epoch 26/100\n",
      "14/14 [==============================] - 2s 173ms/step - loss: 8.3926e-04 - val_loss: 0.0022\n",
      "Epoch 27/100\n",
      "14/14 [==============================] - 2s 168ms/step - loss: 7.8685e-04 - val_loss: 0.0022\n",
      "Epoch 28/100\n",
      "14/14 [==============================] - 2s 167ms/step - loss: 7.7386e-04 - val_loss: 0.0021\n",
      "Epoch 29/100\n",
      "14/14 [==============================] - 2s 166ms/step - loss: 7.8846e-04 - val_loss: 0.0022\n",
      "Epoch 30/100\n",
      "14/14 [==============================] - 2s 172ms/step - loss: 7.5992e-04 - val_loss: 0.0025\n",
      "Epoch 31/100\n",
      "14/14 [==============================] - 2s 173ms/step - loss: 7.9426e-04 - val_loss: 0.0022\n",
      "Epoch 32/100\n",
      "14/14 [==============================] - 2s 166ms/step - loss: 7.8379e-04 - val_loss: 0.0021\n",
      "Epoch 33/100\n",
      "14/14 [==============================] - 2s 169ms/step - loss: 7.4885e-04 - val_loss: 0.0021\n",
      "Epoch 34/100\n",
      "14/14 [==============================] - 2s 168ms/step - loss: 7.4755e-04 - val_loss: 0.0020\n",
      "Epoch 35/100\n",
      "14/14 [==============================] - 2s 169ms/step - loss: 7.3537e-04 - val_loss: 0.0023\n",
      "Epoch 36/100\n",
      "14/14 [==============================] - 2s 164ms/step - loss: 7.2014e-04 - val_loss: 0.0033\n",
      "Epoch 37/100\n",
      "14/14 [==============================] - 2s 168ms/step - loss: 7.7097e-04 - val_loss: 0.0019\n",
      "Epoch 38/100\n",
      "14/14 [==============================] - 2s 167ms/step - loss: 6.9596e-04 - val_loss: 0.0023\n",
      "Epoch 39/100\n",
      "14/14 [==============================] - 2s 164ms/step - loss: 7.4397e-04 - val_loss: 0.0019\n",
      "Epoch 40/100\n",
      "14/14 [==============================] - 2s 168ms/step - loss: 6.9623e-04 - val_loss: 0.0025\n",
      "Epoch 41/100\n",
      "14/14 [==============================] - 2s 170ms/step - loss: 7.4391e-04 - val_loss: 0.0018\n",
      "Epoch 42/100\n",
      "14/14 [==============================] - 2s 172ms/step - loss: 6.9432e-04 - val_loss: 0.0018\n",
      "Epoch 43/100\n",
      "14/14 [==============================] - 2s 158ms/step - loss: 7.1000e-04 - val_loss: 0.0019\n",
      "Epoch 44/100\n",
      "14/14 [==============================] - 2s 163ms/step - loss: 6.4661e-04 - val_loss: 0.0021\n",
      "Epoch 45/100\n",
      "14/14 [==============================] - 2s 163ms/step - loss: 6.3876e-04 - val_loss: 0.0018\n",
      "Epoch 46/100\n",
      "14/14 [==============================] - 2s 168ms/step - loss: 6.3827e-04 - val_loss: 0.0028\n",
      "Epoch 47/100\n",
      "14/14 [==============================] - 2s 170ms/step - loss: 6.5983e-04 - val_loss: 0.0020\n",
      "Epoch 48/100\n",
      "14/14 [==============================] - 2s 169ms/step - loss: 7.1072e-04 - val_loss: 0.0017\n",
      "Epoch 49/100\n",
      "14/14 [==============================] - 2s 174ms/step - loss: 6.0628e-04 - val_loss: 0.0017\n",
      "Epoch 50/100\n",
      "14/14 [==============================] - 2s 168ms/step - loss: 6.6294e-04 - val_loss: 0.0019\n",
      "Epoch 51/100\n",
      "14/14 [==============================] - 2s 169ms/step - loss: 5.9531e-04 - val_loss: 0.0016\n",
      "Epoch 52/100\n",
      "14/14 [==============================] - 2s 167ms/step - loss: 6.3297e-04 - val_loss: 0.0016\n",
      "Epoch 53/100\n",
      "14/14 [==============================] - 2s 173ms/step - loss: 7.2745e-04 - val_loss: 0.0016\n",
      "Epoch 54/100\n",
      "14/14 [==============================] - 2s 178ms/step - loss: 5.7724e-04 - val_loss: 0.0016\n",
      "Epoch 55/100\n",
      "14/14 [==============================] - 3s 181ms/step - loss: 5.5609e-04 - val_loss: 0.0023\n",
      "Epoch 56/100\n",
      "14/14 [==============================] - 3s 183ms/step - loss: 6.5861e-04 - val_loss: 0.0015\n",
      "Epoch 57/100\n",
      "14/14 [==============================] - 2s 168ms/step - loss: 5.8088e-04 - val_loss: 0.0016\n",
      "Epoch 58/100\n",
      "14/14 [==============================] - 2s 170ms/step - loss: 6.1290e-04 - val_loss: 0.0017\n",
      "Epoch 59/100\n",
      "14/14 [==============================] - 2s 172ms/step - loss: 5.2256e-04 - val_loss: 0.0014\n",
      "Epoch 60/100\n",
      "14/14 [==============================] - 2s 171ms/step - loss: 5.1650e-04 - val_loss: 0.0019\n",
      "Epoch 61/100\n",
      "14/14 [==============================] - 2s 172ms/step - loss: 5.5010e-04 - val_loss: 0.0018\n",
      "Epoch 62/100\n",
      "14/14 [==============================] - 2s 171ms/step - loss: 5.3907e-04 - val_loss: 0.0014\n",
      "Epoch 63/100\n",
      "14/14 [==============================] - 2s 165ms/step - loss: 5.3264e-04 - val_loss: 0.0016\n",
      "Epoch 64/100\n",
      "14/14 [==============================] - 2s 162ms/step - loss: 6.3793e-04 - val_loss: 0.0014\n",
      "Epoch 65/100\n",
      "14/14 [==============================] - 2s 165ms/step - loss: 5.3367e-04 - val_loss: 0.0014\n",
      "Epoch 66/100\n",
      "14/14 [==============================] - 2s 168ms/step - loss: 5.1950e-04 - val_loss: 0.0014\n",
      "Epoch 67/100\n",
      "14/14 [==============================] - 2s 173ms/step - loss: 4.9102e-04 - val_loss: 0.0017\n",
      "Epoch 68/100\n",
      "14/14 [==============================] - 2s 174ms/step - loss: 4.6876e-04 - val_loss: 0.0019\n",
      "Epoch 69/100\n",
      "14/14 [==============================] - 2s 170ms/step - loss: 5.2223e-04 - val_loss: 0.0017\n",
      "Epoch 70/100\n",
      "14/14 [==============================] - 2s 159ms/step - loss: 4.6822e-04 - val_loss: 0.0019\n",
      "Epoch 71/100\n",
      "14/14 [==============================] - 2s 150ms/step - loss: 4.9370e-04 - val_loss: 0.0018\n",
      "Epoch 72/100\n",
      "14/14 [==============================] - 2s 155ms/step - loss: 5.3660e-04 - val_loss: 0.0014\n",
      "Epoch 73/100\n",
      "14/14 [==============================] - 2s 160ms/step - loss: 4.6185e-04 - val_loss: 0.0014\n",
      "Epoch 74/100\n",
      "14/14 [==============================] - 2s 166ms/step - loss: 4.3568e-04 - val_loss: 0.0017\n",
      "Epoch 75/100\n",
      "14/14 [==============================] - 2s 166ms/step - loss: 4.5082e-04 - val_loss: 0.0014\n",
      "Epoch 76/100\n",
      "14/14 [==============================] - 2s 169ms/step - loss: 4.4373e-04 - val_loss: 0.0017\n",
      "Epoch 77/100\n",
      "14/14 [==============================] - 2s 162ms/step - loss: 4.7105e-04 - val_loss: 0.0018\n",
      "Epoch 78/100\n"
     ]
    },
    {
     "name": "stdout",
     "output_type": "stream",
     "text": [
      "14/14 [==============================] - 2s 154ms/step - loss: 4.6052e-04 - val_loss: 0.0016\n",
      "Epoch 79/100\n",
      "14/14 [==============================] - 2s 151ms/step - loss: 4.6314e-04 - val_loss: 0.0013\n",
      "Epoch 80/100\n",
      "14/14 [==============================] - 2s 156ms/step - loss: 4.5199e-04 - val_loss: 0.0017\n",
      "Epoch 81/100\n",
      "14/14 [==============================] - 2s 163ms/step - loss: 4.2601e-04 - val_loss: 0.0014\n",
      "Epoch 82/100\n",
      "14/14 [==============================] - 2s 166ms/step - loss: 4.2509e-04 - val_loss: 0.0014\n",
      "Epoch 83/100\n",
      "14/14 [==============================] - 2s 161ms/step - loss: 4.1381e-04 - val_loss: 0.0013\n",
      "Epoch 84/100\n",
      "14/14 [==============================] - 2s 154ms/step - loss: 4.4993e-04 - val_loss: 0.0015\n",
      "Epoch 85/100\n",
      "14/14 [==============================] - 2s 148ms/step - loss: 4.2208e-04 - val_loss: 0.0014\n",
      "Epoch 86/100\n",
      "14/14 [==============================] - 2s 149ms/step - loss: 4.1979e-04 - val_loss: 0.0013\n",
      "Epoch 87/100\n",
      "14/14 [==============================] - 2s 150ms/step - loss: 4.1453e-04 - val_loss: 0.0014\n",
      "Epoch 88/100\n",
      "14/14 [==============================] - 2s 160ms/step - loss: 4.1994e-04 - val_loss: 0.0017\n",
      "Epoch 89/100\n",
      "14/14 [==============================] - 2s 161ms/step - loss: 4.0917e-04 - val_loss: 0.0015\n",
      "Epoch 90/100\n",
      "14/14 [==============================] - 2s 160ms/step - loss: 4.0552e-04 - val_loss: 0.0015\n",
      "Epoch 91/100\n",
      "14/14 [==============================] - 2s 158ms/step - loss: 4.0854e-04 - val_loss: 0.0014\n",
      "Epoch 92/100\n",
      "14/14 [==============================] - 2s 149ms/step - loss: 4.1570e-04 - val_loss: 0.0014\n",
      "Epoch 93/100\n",
      "14/14 [==============================] - 2s 149ms/step - loss: 4.3312e-04 - val_loss: 0.0012\n",
      "Epoch 94/100\n",
      "14/14 [==============================] - 2s 148ms/step - loss: 4.9248e-04 - val_loss: 0.0012\n",
      "Epoch 95/100\n",
      "14/14 [==============================] - 2s 155ms/step - loss: 4.2741e-04 - val_loss: 0.0013\n",
      "Epoch 96/100\n",
      "14/14 [==============================] - 2s 160ms/step - loss: 3.9544e-04 - val_loss: 0.0016\n",
      "Epoch 97/100\n",
      "14/14 [==============================] - 2s 161ms/step - loss: 4.2112e-04 - val_loss: 0.0013\n",
      "Epoch 98/100\n",
      "14/14 [==============================] - 2s 163ms/step - loss: 4.6115e-04 - val_loss: 0.0014\n",
      "Epoch 99/100\n",
      "14/14 [==============================] - 2s 148ms/step - loss: 4.5726e-04 - val_loss: 0.0014\n",
      "Epoch 100/100\n",
      "14/14 [==============================] - 2s 148ms/step - loss: 4.2508e-04 - val_loss: 0.0019\n"
     ]
    },
    {
     "data": {
      "text/plain": [
       "<keras.callbacks.History at 0x1ef075b68f0>"
      ]
     },
     "execution_count": 27,
     "metadata": {},
     "output_type": "execute_result"
    }
   ],
   "source": [
    "model.fit(X_train,y_train,validation_data=(X_test,y_test),epochs=100,batch_size=64,verbose=1)"
   ]
  },
  {
   "cell_type": "code",
   "execution_count": 28,
   "metadata": {},
   "outputs": [
    {
     "name": "stdout",
     "output_type": "stream",
     "text": [
      "27/27 [==============================] - 2s 31ms/step\n",
      "7/7 [==============================] - 0s 31ms/step\n"
     ]
    }
   ],
   "source": [
    "train_predict=model.predict(X_train)\n",
    "test_predict=model.predict(X_test)"
   ]
  },
  {
   "cell_type": "code",
   "execution_count": 29,
   "metadata": {},
   "outputs": [],
   "source": [
    "train_predict=scaler.inverse_transform(train_predict)\n",
    "test_predict=scaler.inverse_transform(test_predict)"
   ]
  },
  {
   "cell_type": "code",
   "execution_count": 30,
   "metadata": {},
   "outputs": [
    {
     "data": {
      "text/plain": [
       "202.80816291326465"
      ]
     },
     "execution_count": 30,
     "metadata": {},
     "output_type": "execute_result"
    }
   ],
   "source": [
    "import math\n",
    "from sklearn.metrics import mean_squared_error\n",
    "math.sqrt(mean_squared_error(y_train,train_predict))"
   ]
  },
  {
   "cell_type": "code",
   "execution_count": 31,
   "metadata": {},
   "outputs": [
    {
     "data": {
      "text/plain": [
       "259.92598471536144"
      ]
     },
     "execution_count": 31,
     "metadata": {},
     "output_type": "execute_result"
    }
   ],
   "source": [
    "math.sqrt(mean_squared_error(y_test,test_predict))"
   ]
  },
  {
   "cell_type": "code",
   "execution_count": 32,
   "metadata": {},
   "outputs": [
    {
     "data": {
      "image/png": "[encoded data removed]",
      "text/plain": [
       "<Figure size 640x480 with 1 Axes>"
      ]
     },
     "metadata": {},
     "output_type": "display_data"
    }
   ],
   "source": [
    "look_back=100\n",
    "trainPredictPlot = numpy.empty_like(df2)\n",
    "trainPredictPlot[:, :] = np.nan\n",
    "trainPredictPlot[look_back:len(train_predict)+look_back, :] = train_predict\n",
    "# shift test predictions for plotting\n",
    "testPredictPlot = numpy.empty_like(df2)\n",
    "testPredictPlot[:, :] = numpy.nan\n",
    "testPredictPlot[len(train_predict)+(look_back*2)+1:len(df2)-1, :] = test_predict\n",
    "# plot baseline and predictions\n",
    "plt.plot(scaler.inverse_transform(df2))\n",
    "plt.plot(trainPredictPlot)\n",
    "plt.plot(testPredictPlot)\n",
    "plt.show()"
   ]
  },
  {
   "cell_type": "code",
   "execution_count": 33,
   "metadata": {},
   "outputs": [
    {
     "data": {
      "image/png": "[encoded data removed]",
      "text/plain": [
       "<Figure size 640x480 with 1 Axes>"
      ]
     },
     "metadata": {},
     "output_type": "display_data"
    }
   ],
   "source": [
    "look_back=100\n",
    "trainPredictPlot = numpy.empty_like(df2)\n",
    "trainPredictPlot[:, :] = np.nan\n",
    "trainPredictPlot[look_back:len(train_predict)+look_back, :] = train_predict\n",
    "# shift test predictions for plotting\n",
    "testPredictPlot = numpy.empty_like(df2)\n",
    "testPredictPlot[:, :] = numpy.nan\n",
    "testPredictPlot[len(train_predict)+(look_back*2)+1:len(df2)-1, :] = test_predict\n",
    "# plot baseline and predictions\n",
    "plt.plot(scaler.inverse_transform(df2))\n",
    "plt.plot(trainPredictPlot)\n",
    "plt.plot(testPredictPlot)\n",
    "plt.show()"
   ]
  },
  {
   "cell_type": "code",
   "execution_count": 34,
   "metadata": {},
   "outputs": [
    {
     "data": {
      "text/plain": [
       "315"
      ]
     },
     "execution_count": 34,
     "metadata": {},
     "output_type": "execute_result"
    }
   ],
   "source": [
    "len(test_data)"
   ]
  },
  {
   "cell_type": "code",
   "execution_count": 35,
   "metadata": {},
   "outputs": [
    {
     "data": {
      "text/plain": [
       "(1, 100)"
      ]
     },
     "execution_count": 35,
     "metadata": {},
     "output_type": "execute_result"
    }
   ],
   "source": [
    "x_input=test_data[215:].reshape(1,-1)\n",
    "x_input.shape"
   ]
  },
  {
   "cell_type": "code",
   "execution_count": 36,
   "metadata": {},
   "outputs": [],
   "source": [
    "temp_input=list(x_input)\n",
    "temp_input=temp_input[0].tolist()"
   ]
  },
  {
   "cell_type": "code",
   "execution_count": 37,
   "metadata": {},
   "outputs": [
    {
     "data": {
      "text/plain": [
       "[0.5051213147953422,\n",
       " 0.5224130544845582,\n",
       " 0.5485453908166842,\n",
       " 0.5433656579818515,\n",
       " 0.574755617868131,\n",
       " 0.6041983097713908,\n",
       " 0.600284301125521,\n",
       " 0.6145967208007166,\n",
       " 0.6034194025781827,\n",
       " 0.5839077773883241,\n",
       " 0.6062234684737313,\n",
       " 0.5981228336643689,\n",
       " 0.6065350313510145,\n",
       " 0.6124352533395645,\n",
       " 0.6210227051446819,\n",
       " 0.6162324259064533,\n",
       " 0.5980059975853877,\n",
       " 0.5947735327335748,\n",
       " 0.6465708610819021,\n",
       " 0.6307979904194416,\n",
       " 0.6393270241850684,\n",
       " 0.6346925263854812,\n",
       " 0.6113642559489039,\n",
       " 0.6114032013085642,\n",
       " 0.6108384935934883,\n",
       " 0.6215484675000973,\n",
       " 0.6770261323363322,\n",
       " 0.6592670483311913,\n",
       " 0.6459866806869963,\n",
       " 0.6258519297425713,\n",
       " 0.611481092027885,\n",
       " 0.5902169256533085,\n",
       " 0.5991354130155393,\n",
       " 0.5974412898703119,\n",
       " 0.5774039023250381,\n",
       " 0.5874907504770805,\n",
       " 0.5804416403785488,\n",
       " 0.5756124157806597,\n",
       " 0.5855824278537214,\n",
       " 0.6045488180083345,\n",
       " 0.562468356895276,\n",
       " 0.5427035868676247,\n",
       " 0.5263465358102581,\n",
       " 0.5397826848930949,\n",
       " 0.5448650543287767,\n",
       " 0.5586322389687268,\n",
       " 0.5740935467539043,\n",
       " 0.5808778284067455,\n",
       " 0.5846477392218716,\n",
       " 0.5986485960197843,\n",
       " 0.5683296335241657,\n",
       " 0.5725162596876583,\n",
       " 0.5968376367955759,\n",
       " 0.6022899871480314,\n",
       " 0.5710558087003934,\n",
       " 0.606768703508977,\n",
       " 0.6275655255676287,\n",
       " 0.6101180044397709,\n",
       " 0.605989796315769,\n",
       " 0.6237099349612494,\n",
       " 0.6658488141137984,\n",
       " 0.6686606690812789,\n",
       " 0.6604743544806637,\n",
       " 0.672508470615726,\n",
       " 0.7218522413054484,\n",
       " 0.7241889628850724,\n",
       " 0.6764030065817657,\n",
       " 0.7001986213342681,\n",
       " 0.7197881372434476,\n",
       " 0.702846905791175,\n",
       " 0.6861004011372045,\n",
       " 0.6680686996144409,\n",
       " 0.6489465280211864,\n",
       " 0.6474276589944308,\n",
       " 0.6531526268645091,\n",
       " 0.6313432254546871,\n",
       " 0.6410795653697863,\n",
       " 0.6278770884449119,\n",
       " 0.6344588542275187,\n",
       " 0.6180628578104919,\n",
       " 0.6400280406589556,\n",
       " 0.6565214004751334,\n",
       " 0.6560345834793786,\n",
       " 0.6472329321961288,\n",
       " 0.6541652062156793,\n",
       " 0.6357051057366516,\n",
       " 0.6213732133816257,\n",
       " 0.6577871246640963,\n",
       " 0.6703664758344046,\n",
       " 0.6907154262569615,\n",
       " 0.7415585932936091,\n",
       " 0.7365735872570784,\n",
       " 0.7283950617283952,\n",
       " 0.7226311484986563,\n",
       " 0.7403123417844764,\n",
       " 0.7375861666082488,\n",
       " 0.750282353857538,\n",
       " 0.7319390894574913,\n",
       " 0.7442847684698368,\n",
       " 0.7648089730108658]"
      ]
     },
     "execution_count": 37,
     "metadata": {},
     "output_type": "execute_result"
    }
   ],
   "source": [
    "temp_input"
   ]
  },
  {
   "cell_type": "code",
   "execution_count": 39,
   "metadata": {},
   "outputs": [
    {
     "name": "stdout",
     "output_type": "stream",
     "text": [
      "0 day input [0.52241305 0.54854539 0.54336566 0.57475562 0.60419831 0.6002843\n",
      " 0.61459672 0.6034194  0.58390778 0.60622347 0.59812283 0.60653503\n",
      " 0.61243525 0.62102271 0.61623243 0.598006   0.59477353 0.64657086\n",
      " 0.63079799 0.63932702 0.63469253 0.61136426 0.6114032  0.61083849\n",
      " 0.62154847 0.67702613 0.65926705 0.64598668 0.62585193 0.61148109\n",
      " 0.59021693 0.59913541 0.59744129 0.5774039  0.58749075 0.58044164\n",
      " 0.57561242 0.58558243 0.60454882 0.56246836 0.54270359 0.52634654\n",
      " 0.53978268 0.54486505 0.55863224 0.57409355 0.58087783 0.58464774\n",
      " 0.5986486  0.56832963 0.57251626 0.59683764 0.60228999 0.57105581\n",
      " 0.6067687  0.62756553 0.610118   0.6059898  0.62370993 0.66584881\n",
      " 0.66866067 0.66047435 0.67250847 0.72185224 0.72418896 0.67640301\n",
      " 0.70019862 0.71978814 0.70284691 0.6861004  0.6680687  0.64894653\n",
      " 0.64742766 0.65315263 0.63134323 0.64107957 0.62787709 0.63445885\n",
      " 0.61806286 0.64002804 0.6565214  0.65603458 0.64723293 0.65416521\n",
      " 0.63570511 0.62137321 0.65778712 0.67036648 0.69071543 0.74155859\n",
      " 0.73657359 0.72839506 0.72263115 0.74031234 0.73758617 0.75028235\n",
      " 0.73193909 0.74428477 0.76480897 0.77995604]\n",
      "0 day output [[0.7818239]]\n",
      "1 day input [0.54854539 0.54336566 0.57475562 0.60419831 0.6002843  0.61459672\n",
      " 0.6034194  0.58390778 0.60622347 0.59812283 0.60653503 0.61243525\n",
      " 0.62102271 0.61623243 0.598006   0.59477353 0.64657086 0.63079799\n",
      " 0.63932702 0.63469253 0.61136426 0.6114032  0.61083849 0.62154847\n",
      " 0.67702613 0.65926705 0.64598668 0.62585193 0.61148109 0.59021693\n",
      " 0.59913541 0.59744129 0.5774039  0.58749075 0.58044164 0.57561242\n",
      " 0.58558243 0.60454882 0.56246836 0.54270359 0.52634654 0.53978268\n",
      " 0.54486505 0.55863224 0.57409355 0.58087783 0.58464774 0.5986486\n",
      " 0.56832963 0.57251626 0.59683764 0.60228999 0.57105581 0.6067687\n",
      " 0.62756553 0.610118   0.6059898  0.62370993 0.66584881 0.66866067\n",
      " 0.66047435 0.67250847 0.72185224 0.72418896 0.67640301 0.70019862\n",
      " 0.71978814 0.70284691 0.6861004  0.6680687  0.64894653 0.64742766\n",
      " 0.65315263 0.63134323 0.64107957 0.62787709 0.63445885 0.61806286\n",
      " 0.64002804 0.6565214  0.65603458 0.64723293 0.65416521 0.63570511\n",
      " 0.62137321 0.65778712 0.67036648 0.69071543 0.74155859 0.73657359\n",
      " 0.72839506 0.72263115 0.74031234 0.73758617 0.75028235 0.73193909\n",
      " 0.74428477 0.76480897 0.77995604 0.78182387]\n",
      "1 day output [[0.78526074]]\n",
      "2 day input [0.54336566 0.57475562 0.60419831 0.6002843  0.61459672 0.6034194\n",
      " 0.58390778 0.60622347 0.59812283 0.60653503 0.61243525 0.62102271\n",
      " 0.61623243 0.598006   0.59477353 0.64657086 0.63079799 0.63932702\n",
      " 0.63469253 0.61136426 0.6114032  0.61083849 0.62154847 0.67702613\n",
      " 0.65926705 0.64598668 0.62585193 0.61148109 0.59021693 0.59913541\n",
      " 0.59744129 0.5774039  0.58749075 0.58044164 0.57561242 0.58558243\n",
      " 0.60454882 0.56246836 0.54270359 0.52634654 0.53978268 0.54486505\n",
      " 0.55863224 0.57409355 0.58087783 0.58464774 0.5986486  0.56832963\n",
      " 0.57251626 0.59683764 0.60228999 0.57105581 0.6067687  0.62756553\n",
      " 0.610118   0.6059898  0.62370993 0.66584881 0.66866067 0.66047435\n",
      " 0.67250847 0.72185224 0.72418896 0.67640301 0.70019862 0.71978814\n",
      " 0.70284691 0.6861004  0.6680687  0.64894653 0.64742766 0.65315263\n",
      " 0.63134323 0.64107957 0.62787709 0.63445885 0.61806286 0.64002804\n",
      " 0.6565214  0.65603458 0.64723293 0.65416521 0.63570511 0.62137321\n",
      " 0.65778712 0.67036648 0.69071543 0.74155859 0.73657359 0.72839506\n",
      " 0.72263115 0.74031234 0.73758617 0.75028235 0.73193909 0.74428477\n",
      " 0.76480897 0.77995604 0.78182387 0.78526074]\n",
      "2 day output [[0.78980875]]\n",
      "3 day input [0.57475562 0.60419831 0.6002843  0.61459672 0.6034194  0.58390778\n",
      " 0.60622347 0.59812283 0.60653503 0.61243525 0.62102271 0.61623243\n",
      " 0.598006   0.59477353 0.64657086 0.63079799 0.63932702 0.63469253\n",
      " 0.61136426 0.6114032  0.61083849 0.62154847 0.67702613 0.65926705\n",
      " 0.64598668 0.62585193 0.61148109 0.59021693 0.59913541 0.59744129\n",
      " 0.5774039  0.58749075 0.58044164 0.57561242 0.58558243 0.60454882\n",
      " 0.56246836 0.54270359 0.52634654 0.53978268 0.54486505 0.55863224\n",
      " 0.57409355 0.58087783 0.58464774 0.5986486  0.56832963 0.57251626\n",
      " 0.59683764 0.60228999 0.57105581 0.6067687  0.62756553 0.610118\n",
      " 0.6059898  0.62370993 0.66584881 0.66866067 0.66047435 0.67250847\n",
      " 0.72185224 0.72418896 0.67640301 0.70019862 0.71978814 0.70284691\n",
      " 0.6861004  0.6680687  0.64894653 0.64742766 0.65315263 0.63134323\n",
      " 0.64107957 0.62787709 0.63445885 0.61806286 0.64002804 0.6565214\n",
      " 0.65603458 0.64723293 0.65416521 0.63570511 0.62137321 0.65778712\n",
      " 0.67036648 0.69071543 0.74155859 0.73657359 0.72839506 0.72263115\n",
      " 0.74031234 0.73758617 0.75028235 0.73193909 0.74428477 0.76480897\n",
      " 0.77995604 0.78182387 0.78526074 0.78980875]\n",
      "3 day output [[0.7949647]]\n",
      "4 day input [0.60419831 0.6002843  0.61459672 0.6034194  0.58390778 0.60622347\n",
      " 0.59812283 0.60653503 0.61243525 0.62102271 0.61623243 0.598006\n",
      " 0.59477353 0.64657086 0.63079799 0.63932702 0.63469253 0.61136426\n",
      " 0.6114032  0.61083849 0.62154847 0.67702613 0.65926705 0.64598668\n",
      " 0.62585193 0.61148109 0.59021693 0.59913541 0.59744129 0.5774039\n",
      " 0.58749075 0.58044164 0.57561242 0.58558243 0.60454882 0.56246836\n",
      " 0.54270359 0.52634654 0.53978268 0.54486505 0.55863224 0.57409355\n",
      " 0.58087783 0.58464774 0.5986486  0.56832963 0.57251626 0.59683764\n",
      " 0.60228999 0.57105581 0.6067687  0.62756553 0.610118   0.6059898\n",
      " 0.62370993 0.66584881 0.66866067 0.66047435 0.67250847 0.72185224\n",
      " 0.72418896 0.67640301 0.70019862 0.71978814 0.70284691 0.6861004\n",
      " 0.6680687  0.64894653 0.64742766 0.65315263 0.63134323 0.64107957\n",
      " 0.62787709 0.63445885 0.61806286 0.64002804 0.6565214  0.65603458\n",
      " 0.64723293 0.65416521 0.63570511 0.62137321 0.65778712 0.67036648\n",
      " 0.69071543 0.74155859 0.73657359 0.72839506 0.72263115 0.74031234\n",
      " 0.73758617 0.75028235 0.73193909 0.74428477 0.76480897 0.77995604\n",
      " 0.78182387 0.78526074 0.78980875 0.79496467]\n",
      "4 day output [[0.8003434]]\n",
      "5 day input [0.6002843  0.61459672 0.6034194  0.58390778 0.60622347 0.59812283\n",
      " 0.60653503 0.61243525 0.62102271 0.61623243 0.598006   0.59477353\n",
      " 0.64657086 0.63079799 0.63932702 0.63469253 0.61136426 0.6114032\n",
      " 0.61083849 0.62154847 0.67702613 0.65926705 0.64598668 0.62585193\n",
      " 0.61148109 0.59021693 0.59913541 0.59744129 0.5774039  0.58749075\n",
      " 0.58044164 0.57561242 0.58558243 0.60454882 0.56246836 0.54270359\n",
      " 0.52634654 0.53978268 0.54486505 0.55863224 0.57409355 0.58087783\n",
      " 0.58464774 0.5986486  0.56832963 0.57251626 0.59683764 0.60228999\n",
      " 0.57105581 0.6067687  0.62756553 0.610118   0.6059898  0.62370993\n",
      " 0.66584881 0.66866067 0.66047435 0.67250847 0.72185224 0.72418896\n",
      " 0.67640301 0.70019862 0.71978814 0.70284691 0.6861004  0.6680687\n",
      " 0.64894653 0.64742766 0.65315263 0.63134323 0.64107957 0.62787709\n",
      " 0.63445885 0.61806286 0.64002804 0.6565214  0.65603458 0.64723293\n",
      " 0.65416521 0.63570511 0.62137321 0.65778712 0.67036648 0.69071543\n",
      " 0.74155859 0.73657359 0.72839506 0.72263115 0.74031234 0.73758617\n",
      " 0.75028235 0.73193909 0.74428477 0.76480897 0.77995604 0.78182387\n",
      " 0.78526074 0.78980875 0.79496467 0.80034339]\n",
      "5 day output [[0.8057091]]\n",
      "6 day input [0.61459672 0.6034194  0.58390778 0.60622347 0.59812283 0.60653503\n",
      " 0.61243525 0.62102271 0.61623243 0.598006   0.59477353 0.64657086\n",
      " 0.63079799 0.63932702 0.63469253 0.61136426 0.6114032  0.61083849\n",
      " 0.62154847 0.67702613 0.65926705 0.64598668 0.62585193 0.61148109\n",
      " 0.59021693 0.59913541 0.59744129 0.5774039  0.58749075 0.58044164\n",
      " 0.57561242 0.58558243 0.60454882 0.56246836 0.54270359 0.52634654\n",
      " 0.53978268 0.54486505 0.55863224 0.57409355 0.58087783 0.58464774\n",
      " 0.5986486  0.56832963 0.57251626 0.59683764 0.60228999 0.57105581\n",
      " 0.6067687  0.62756553 0.610118   0.6059898  0.62370993 0.66584881\n",
      " 0.66866067 0.66047435 0.67250847 0.72185224 0.72418896 0.67640301\n",
      " 0.70019862 0.71978814 0.70284691 0.6861004  0.6680687  0.64894653\n",
      " 0.64742766 0.65315263 0.63134323 0.64107957 0.62787709 0.63445885\n",
      " 0.61806286 0.64002804 0.6565214  0.65603458 0.64723293 0.65416521\n",
      " 0.63570511 0.62137321 0.65778712 0.67036648 0.69071543 0.74155859\n",
      " 0.73657359 0.72839506 0.72263115 0.74031234 0.73758617 0.75028235\n",
      " 0.73193909 0.74428477 0.76480897 0.77995604 0.78182387 0.78526074\n",
      " 0.78980875 0.79496467 0.80034339 0.80570912]\n",
      "6 day output [[0.81094503]]\n",
      "7 day input [0.6034194  0.58390778 0.60622347 0.59812283 0.60653503 0.61243525\n",
      " 0.62102271 0.61623243 0.598006   0.59477353 0.64657086 0.63079799\n",
      " 0.63932702 0.63469253 0.61136426 0.6114032  0.61083849 0.62154847\n",
      " 0.67702613 0.65926705 0.64598668 0.62585193 0.61148109 0.59021693\n",
      " 0.59913541 0.59744129 0.5774039  0.58749075 0.58044164 0.57561242\n",
      " 0.58558243 0.60454882 0.56246836 0.54270359 0.52634654 0.53978268\n",
      " 0.54486505 0.55863224 0.57409355 0.58087783 0.58464774 0.5986486\n",
      " 0.56832963 0.57251626 0.59683764 0.60228999 0.57105581 0.6067687\n",
      " 0.62756553 0.610118   0.6059898  0.62370993 0.66584881 0.66866067\n",
      " 0.66047435 0.67250847 0.72185224 0.72418896 0.67640301 0.70019862\n",
      " 0.71978814 0.70284691 0.6861004  0.6680687  0.64894653 0.64742766\n",
      " 0.65315263 0.63134323 0.64107957 0.62787709 0.63445885 0.61806286\n",
      " 0.64002804 0.6565214  0.65603458 0.64723293 0.65416521 0.63570511\n",
      " 0.62137321 0.65778712 0.67036648 0.69071543 0.74155859 0.73657359\n",
      " 0.72839506 0.72263115 0.74031234 0.73758617 0.75028235 0.73193909\n",
      " 0.74428477 0.76480897 0.77995604 0.78182387 0.78526074 0.78980875\n",
      " 0.79496467 0.80034339 0.80570912 0.81094503]\n",
      "7 day output [[0.8160125]]\n",
      "8 day input [0.58390778 0.60622347 0.59812283 0.60653503 0.61243525 0.62102271\n",
      " 0.61623243 0.598006   0.59477353 0.64657086 0.63079799 0.63932702\n",
      " 0.63469253 0.61136426 0.6114032  0.61083849 0.62154847 0.67702613\n",
      " 0.65926705 0.64598668 0.62585193 0.61148109 0.59021693 0.59913541\n",
      " 0.59744129 0.5774039  0.58749075 0.58044164 0.57561242 0.58558243\n",
      " 0.60454882 0.56246836 0.54270359 0.52634654 0.53978268 0.54486505\n",
      " 0.55863224 0.57409355 0.58087783 0.58464774 0.5986486  0.56832963\n",
      " 0.57251626 0.59683764 0.60228999 0.57105581 0.6067687  0.62756553\n",
      " 0.610118   0.6059898  0.62370993 0.66584881 0.66866067 0.66047435\n",
      " 0.67250847 0.72185224 0.72418896 0.67640301 0.70019862 0.71978814\n",
      " 0.70284691 0.6861004  0.6680687  0.64894653 0.64742766 0.65315263\n",
      " 0.63134323 0.64107957 0.62787709 0.63445885 0.61806286 0.64002804\n",
      " 0.6565214  0.65603458 0.64723293 0.65416521 0.63570511 0.62137321\n",
      " 0.65778712 0.67036648 0.69071543 0.74155859 0.73657359 0.72839506\n",
      " 0.72263115 0.74031234 0.73758617 0.75028235 0.73193909 0.74428477\n",
      " 0.76480897 0.77995604 0.78182387 0.78526074 0.78980875 0.79496467\n",
      " 0.80034339 0.80570912 0.81094503 0.8160125 ]\n"
     ]
    },
    {
     "name": "stdout",
     "output_type": "stream",
     "text": [
      "8 day output [[0.8209141]]\n",
      "9 day input [0.60622347 0.59812283 0.60653503 0.61243525 0.62102271 0.61623243\n",
      " 0.598006   0.59477353 0.64657086 0.63079799 0.63932702 0.63469253\n",
      " 0.61136426 0.6114032  0.61083849 0.62154847 0.67702613 0.65926705\n",
      " 0.64598668 0.62585193 0.61148109 0.59021693 0.59913541 0.59744129\n",
      " 0.5774039  0.58749075 0.58044164 0.57561242 0.58558243 0.60454882\n",
      " 0.56246836 0.54270359 0.52634654 0.53978268 0.54486505 0.55863224\n",
      " 0.57409355 0.58087783 0.58464774 0.5986486  0.56832963 0.57251626\n",
      " 0.59683764 0.60228999 0.57105581 0.6067687  0.62756553 0.610118\n",
      " 0.6059898  0.62370993 0.66584881 0.66866067 0.66047435 0.67250847\n",
      " 0.72185224 0.72418896 0.67640301 0.70019862 0.71978814 0.70284691\n",
      " 0.6861004  0.6680687  0.64894653 0.64742766 0.65315263 0.63134323\n",
      " 0.64107957 0.62787709 0.63445885 0.61806286 0.64002804 0.6565214\n",
      " 0.65603458 0.64723293 0.65416521 0.63570511 0.62137321 0.65778712\n",
      " 0.67036648 0.69071543 0.74155859 0.73657359 0.72839506 0.72263115\n",
      " 0.74031234 0.73758617 0.75028235 0.73193909 0.74428477 0.76480897\n",
      " 0.77995604 0.78182387 0.78526074 0.78980875 0.79496467 0.80034339\n",
      " 0.80570912 0.81094503 0.8160125  0.82091409]\n",
      "9 day output [[0.82567114]]\n",
      "10 day input [0.59812283 0.60653503 0.61243525 0.62102271 0.61623243 0.598006\n",
      " 0.59477353 0.64657086 0.63079799 0.63932702 0.63469253 0.61136426\n",
      " 0.6114032  0.61083849 0.62154847 0.67702613 0.65926705 0.64598668\n",
      " 0.62585193 0.61148109 0.59021693 0.59913541 0.59744129 0.5774039\n",
      " 0.58749075 0.58044164 0.57561242 0.58558243 0.60454882 0.56246836\n",
      " 0.54270359 0.52634654 0.53978268 0.54486505 0.55863224 0.57409355\n",
      " 0.58087783 0.58464774 0.5986486  0.56832963 0.57251626 0.59683764\n",
      " 0.60228999 0.57105581 0.6067687  0.62756553 0.610118   0.6059898\n",
      " 0.62370993 0.66584881 0.66866067 0.66047435 0.67250847 0.72185224\n",
      " 0.72418896 0.67640301 0.70019862 0.71978814 0.70284691 0.6861004\n",
      " 0.6680687  0.64894653 0.64742766 0.65315263 0.63134323 0.64107957\n",
      " 0.62787709 0.63445885 0.61806286 0.64002804 0.6565214  0.65603458\n",
      " 0.64723293 0.65416521 0.63570511 0.62137321 0.65778712 0.67036648\n",
      " 0.69071543 0.74155859 0.73657359 0.72839506 0.72263115 0.74031234\n",
      " 0.73758617 0.75028235 0.73193909 0.74428477 0.76480897 0.77995604\n",
      " 0.78182387 0.78526074 0.78980875 0.79496467 0.80034339 0.80570912\n",
      " 0.81094503 0.8160125  0.82091409 0.82567114]\n",
      "10 day output [[0.83031017]]\n",
      "11 day input [0.60653503 0.61243525 0.62102271 0.61623243 0.598006   0.59477353\n",
      " 0.64657086 0.63079799 0.63932702 0.63469253 0.61136426 0.6114032\n",
      " 0.61083849 0.62154847 0.67702613 0.65926705 0.64598668 0.62585193\n",
      " 0.61148109 0.59021693 0.59913541 0.59744129 0.5774039  0.58749075\n",
      " 0.58044164 0.57561242 0.58558243 0.60454882 0.56246836 0.54270359\n",
      " 0.52634654 0.53978268 0.54486505 0.55863224 0.57409355 0.58087783\n",
      " 0.58464774 0.5986486  0.56832963 0.57251626 0.59683764 0.60228999\n",
      " 0.57105581 0.6067687  0.62756553 0.610118   0.6059898  0.62370993\n",
      " 0.66584881 0.66866067 0.66047435 0.67250847 0.72185224 0.72418896\n",
      " 0.67640301 0.70019862 0.71978814 0.70284691 0.6861004  0.6680687\n",
      " 0.64894653 0.64742766 0.65315263 0.63134323 0.64107957 0.62787709\n",
      " 0.63445885 0.61806286 0.64002804 0.6565214  0.65603458 0.64723293\n",
      " 0.65416521 0.63570511 0.62137321 0.65778712 0.67036648 0.69071543\n",
      " 0.74155859 0.73657359 0.72839506 0.72263115 0.74031234 0.73758617\n",
      " 0.75028235 0.73193909 0.74428477 0.76480897 0.77995604 0.78182387\n",
      " 0.78526074 0.78980875 0.79496467 0.80034339 0.80570912 0.81094503\n",
      " 0.8160125  0.82091409 0.82567114 0.83031017]\n",
      "11 day output [[0.8348566]]\n",
      "12 day input [0.61243525 0.62102271 0.61623243 0.598006   0.59477353 0.64657086\n",
      " 0.63079799 0.63932702 0.63469253 0.61136426 0.6114032  0.61083849\n",
      " 0.62154847 0.67702613 0.65926705 0.64598668 0.62585193 0.61148109\n",
      " 0.59021693 0.59913541 0.59744129 0.5774039  0.58749075 0.58044164\n",
      " 0.57561242 0.58558243 0.60454882 0.56246836 0.54270359 0.52634654\n",
      " 0.53978268 0.54486505 0.55863224 0.57409355 0.58087783 0.58464774\n",
      " 0.5986486  0.56832963 0.57251626 0.59683764 0.60228999 0.57105581\n",
      " 0.6067687  0.62756553 0.610118   0.6059898  0.62370993 0.66584881\n",
      " 0.66866067 0.66047435 0.67250847 0.72185224 0.72418896 0.67640301\n",
      " 0.70019862 0.71978814 0.70284691 0.6861004  0.6680687  0.64894653\n",
      " 0.64742766 0.65315263 0.63134323 0.64107957 0.62787709 0.63445885\n",
      " 0.61806286 0.64002804 0.6565214  0.65603458 0.64723293 0.65416521\n",
      " 0.63570511 0.62137321 0.65778712 0.67036648 0.69071543 0.74155859\n",
      " 0.73657359 0.72839506 0.72263115 0.74031234 0.73758617 0.75028235\n",
      " 0.73193909 0.74428477 0.76480897 0.77995604 0.78182387 0.78526074\n",
      " 0.78980875 0.79496467 0.80034339 0.80570912 0.81094503 0.8160125\n",
      " 0.82091409 0.82567114 0.83031017 0.83485663]\n",
      "12 day output [[0.8393336]]\n",
      "13 day input [0.62102271 0.61623243 0.598006   0.59477353 0.64657086 0.63079799\n",
      " 0.63932702 0.63469253 0.61136426 0.6114032  0.61083849 0.62154847\n",
      " 0.67702613 0.65926705 0.64598668 0.62585193 0.61148109 0.59021693\n",
      " 0.59913541 0.59744129 0.5774039  0.58749075 0.58044164 0.57561242\n",
      " 0.58558243 0.60454882 0.56246836 0.54270359 0.52634654 0.53978268\n",
      " 0.54486505 0.55863224 0.57409355 0.58087783 0.58464774 0.5986486\n",
      " 0.56832963 0.57251626 0.59683764 0.60228999 0.57105581 0.6067687\n",
      " 0.62756553 0.610118   0.6059898  0.62370993 0.66584881 0.66866067\n",
      " 0.66047435 0.67250847 0.72185224 0.72418896 0.67640301 0.70019862\n",
      " 0.71978814 0.70284691 0.6861004  0.6680687  0.64894653 0.64742766\n",
      " 0.65315263 0.63134323 0.64107957 0.62787709 0.63445885 0.61806286\n",
      " 0.64002804 0.6565214  0.65603458 0.64723293 0.65416521 0.63570511\n",
      " 0.62137321 0.65778712 0.67036648 0.69071543 0.74155859 0.73657359\n",
      " 0.72839506 0.72263115 0.74031234 0.73758617 0.75028235 0.73193909\n",
      " 0.74428477 0.76480897 0.77995604 0.78182387 0.78526074 0.78980875\n",
      " 0.79496467 0.80034339 0.80570912 0.81094503 0.8160125  0.82091409\n",
      " 0.82567114 0.83031017 0.83485663 0.83933359]\n",
      "13 day output [[0.8437616]]\n",
      "14 day input [0.61623243 0.598006   0.59477353 0.64657086 0.63079799 0.63932702\n",
      " 0.63469253 0.61136426 0.6114032  0.61083849 0.62154847 0.67702613\n",
      " 0.65926705 0.64598668 0.62585193 0.61148109 0.59021693 0.59913541\n",
      " 0.59744129 0.5774039  0.58749075 0.58044164 0.57561242 0.58558243\n",
      " 0.60454882 0.56246836 0.54270359 0.52634654 0.53978268 0.54486505\n",
      " 0.55863224 0.57409355 0.58087783 0.58464774 0.5986486  0.56832963\n",
      " 0.57251626 0.59683764 0.60228999 0.57105581 0.6067687  0.62756553\n",
      " 0.610118   0.6059898  0.62370993 0.66584881 0.66866067 0.66047435\n",
      " 0.67250847 0.72185224 0.72418896 0.67640301 0.70019862 0.71978814\n",
      " 0.70284691 0.6861004  0.6680687  0.64894653 0.64742766 0.65315263\n",
      " 0.63134323 0.64107957 0.62787709 0.63445885 0.61806286 0.64002804\n",
      " 0.6565214  0.65603458 0.64723293 0.65416521 0.63570511 0.62137321\n",
      " 0.65778712 0.67036648 0.69071543 0.74155859 0.73657359 0.72839506\n",
      " 0.72263115 0.74031234 0.73758617 0.75028235 0.73193909 0.74428477\n",
      " 0.76480897 0.77995604 0.78182387 0.78526074 0.78980875 0.79496467\n",
      " 0.80034339 0.80570912 0.81094503 0.8160125  0.82091409 0.82567114\n",
      " 0.83031017 0.83485663 0.83933359 0.84376162]\n",
      "14 day output [[0.8481595]]\n",
      "15 day input [0.598006   0.59477353 0.64657086 0.63079799 0.63932702 0.63469253\n",
      " 0.61136426 0.6114032  0.61083849 0.62154847 0.67702613 0.65926705\n",
      " 0.64598668 0.62585193 0.61148109 0.59021693 0.59913541 0.59744129\n",
      " 0.5774039  0.58749075 0.58044164 0.57561242 0.58558243 0.60454882\n",
      " 0.56246836 0.54270359 0.52634654 0.53978268 0.54486505 0.55863224\n",
      " 0.57409355 0.58087783 0.58464774 0.5986486  0.56832963 0.57251626\n",
      " 0.59683764 0.60228999 0.57105581 0.6067687  0.62756553 0.610118\n",
      " 0.6059898  0.62370993 0.66584881 0.66866067 0.66047435 0.67250847\n",
      " 0.72185224 0.72418896 0.67640301 0.70019862 0.71978814 0.70284691\n",
      " 0.6861004  0.6680687  0.64894653 0.64742766 0.65315263 0.63134323\n",
      " 0.64107957 0.62787709 0.63445885 0.61806286 0.64002804 0.6565214\n",
      " 0.65603458 0.64723293 0.65416521 0.63570511 0.62137321 0.65778712\n",
      " 0.67036648 0.69071543 0.74155859 0.73657359 0.72839506 0.72263115\n",
      " 0.74031234 0.73758617 0.75028235 0.73193909 0.74428477 0.76480897\n",
      " 0.77995604 0.78182387 0.78526074 0.78980875 0.79496467 0.80034339\n",
      " 0.80570912 0.81094503 0.8160125  0.82091409 0.82567114 0.83031017\n",
      " 0.83485663 0.83933359 0.84376162 0.84815949]\n",
      "15 day output [[0.8525442]]\n",
      "16 day input [0.59477353 0.64657086 0.63079799 0.63932702 0.63469253 0.61136426\n",
      " 0.6114032  0.61083849 0.62154847 0.67702613 0.65926705 0.64598668\n",
      " 0.62585193 0.61148109 0.59021693 0.59913541 0.59744129 0.5774039\n",
      " 0.58749075 0.58044164 0.57561242 0.58558243 0.60454882 0.56246836\n",
      " 0.54270359 0.52634654 0.53978268 0.54486505 0.55863224 0.57409355\n",
      " 0.58087783 0.58464774 0.5986486  0.56832963 0.57251626 0.59683764\n",
      " 0.60228999 0.57105581 0.6067687  0.62756553 0.610118   0.6059898\n",
      " 0.62370993 0.66584881 0.66866067 0.66047435 0.67250847 0.72185224\n",
      " 0.72418896 0.67640301 0.70019862 0.71978814 0.70284691 0.6861004\n",
      " 0.6680687  0.64894653 0.64742766 0.65315263 0.63134323 0.64107957\n",
      " 0.62787709 0.63445885 0.61806286 0.64002804 0.6565214  0.65603458\n",
      " 0.64723293 0.65416521 0.63570511 0.62137321 0.65778712 0.67036648\n",
      " 0.69071543 0.74155859 0.73657359 0.72839506 0.72263115 0.74031234\n",
      " 0.73758617 0.75028235 0.73193909 0.74428477 0.76480897 0.77995604\n",
      " 0.78182387 0.78526074 0.78980875 0.79496467 0.80034339 0.80570912\n",
      " 0.81094503 0.8160125  0.82091409 0.82567114 0.83031017 0.83485663\n",
      " 0.83933359 0.84376162 0.84815949 0.85254419]\n",
      "16 day output [[0.8569322]]\n",
      "17 day input [0.64657086 0.63079799 0.63932702 0.63469253 0.61136426 0.6114032\n",
      " 0.61083849 0.62154847 0.67702613 0.65926705 0.64598668 0.62585193\n",
      " 0.61148109 0.59021693 0.59913541 0.59744129 0.5774039  0.58749075\n",
      " 0.58044164 0.57561242 0.58558243 0.60454882 0.56246836 0.54270359\n",
      " 0.52634654 0.53978268 0.54486505 0.55863224 0.57409355 0.58087783\n",
      " 0.58464774 0.5986486  0.56832963 0.57251626 0.59683764 0.60228999\n",
      " 0.57105581 0.6067687  0.62756553 0.610118   0.6059898  0.62370993\n",
      " 0.66584881 0.66866067 0.66047435 0.67250847 0.72185224 0.72418896\n",
      " 0.67640301 0.70019862 0.71978814 0.70284691 0.6861004  0.6680687\n",
      " 0.64894653 0.64742766 0.65315263 0.63134323 0.64107957 0.62787709\n",
      " 0.63445885 0.61806286 0.64002804 0.6565214  0.65603458 0.64723293\n",
      " 0.65416521 0.63570511 0.62137321 0.65778712 0.67036648 0.69071543\n",
      " 0.74155859 0.73657359 0.72839506 0.72263115 0.74031234 0.73758617\n",
      " 0.75028235 0.73193909 0.74428477 0.76480897 0.77995604 0.78182387\n",
      " 0.78526074 0.78980875 0.79496467 0.80034339 0.80570912 0.81094503\n",
      " 0.8160125  0.82091409 0.82567114 0.83031017 0.83485663 0.83933359\n",
      " 0.84376162 0.84815949 0.85254419 0.85693222]\n"
     ]
    },
    {
     "name": "stdout",
     "output_type": "stream",
     "text": [
      "17 day output [[0.8613386]]\n",
      "18 day input [0.63079799 0.63932702 0.63469253 0.61136426 0.6114032  0.61083849\n",
      " 0.62154847 0.67702613 0.65926705 0.64598668 0.62585193 0.61148109\n",
      " 0.59021693 0.59913541 0.59744129 0.5774039  0.58749075 0.58044164\n",
      " 0.57561242 0.58558243 0.60454882 0.56246836 0.54270359 0.52634654\n",
      " 0.53978268 0.54486505 0.55863224 0.57409355 0.58087783 0.58464774\n",
      " 0.5986486  0.56832963 0.57251626 0.59683764 0.60228999 0.57105581\n",
      " 0.6067687  0.62756553 0.610118   0.6059898  0.62370993 0.66584881\n",
      " 0.66866067 0.66047435 0.67250847 0.72185224 0.72418896 0.67640301\n",
      " 0.70019862 0.71978814 0.70284691 0.6861004  0.6680687  0.64894653\n",
      " 0.64742766 0.65315263 0.63134323 0.64107957 0.62787709 0.63445885\n",
      " 0.61806286 0.64002804 0.6565214  0.65603458 0.64723293 0.65416521\n",
      " 0.63570511 0.62137321 0.65778712 0.67036648 0.69071543 0.74155859\n",
      " 0.73657359 0.72839506 0.72263115 0.74031234 0.73758617 0.75028235\n",
      " 0.73193909 0.74428477 0.76480897 0.77995604 0.78182387 0.78526074\n",
      " 0.78980875 0.79496467 0.80034339 0.80570912 0.81094503 0.8160125\n",
      " 0.82091409 0.82567114 0.83031017 0.83485663 0.83933359 0.84376162\n",
      " 0.84815949 0.85254419 0.85693222 0.86133862]\n",
      "18 day output [[0.8657779]]\n",
      "19 day input [0.63932702 0.63469253 0.61136426 0.6114032  0.61083849 0.62154847\n",
      " 0.67702613 0.65926705 0.64598668 0.62585193 0.61148109 0.59021693\n",
      " 0.59913541 0.59744129 0.5774039  0.58749075 0.58044164 0.57561242\n",
      " 0.58558243 0.60454882 0.56246836 0.54270359 0.52634654 0.53978268\n",
      " 0.54486505 0.55863224 0.57409355 0.58087783 0.58464774 0.5986486\n",
      " 0.56832963 0.57251626 0.59683764 0.60228999 0.57105581 0.6067687\n",
      " 0.62756553 0.610118   0.6059898  0.62370993 0.66584881 0.66866067\n",
      " 0.66047435 0.67250847 0.72185224 0.72418896 0.67640301 0.70019862\n",
      " 0.71978814 0.70284691 0.6861004  0.6680687  0.64894653 0.64742766\n",
      " 0.65315263 0.63134323 0.64107957 0.62787709 0.63445885 0.61806286\n",
      " 0.64002804 0.6565214  0.65603458 0.64723293 0.65416521 0.63570511\n",
      " 0.62137321 0.65778712 0.67036648 0.69071543 0.74155859 0.73657359\n",
      " 0.72839506 0.72263115 0.74031234 0.73758617 0.75028235 0.73193909\n",
      " 0.74428477 0.76480897 0.77995604 0.78182387 0.78526074 0.78980875\n",
      " 0.79496467 0.80034339 0.80570912 0.81094503 0.8160125  0.82091409\n",
      " 0.82567114 0.83031017 0.83485663 0.83933359 0.84376162 0.84815949\n",
      " 0.85254419 0.85693222 0.86133862 0.86577791]\n",
      "19 day output [[0.8702637]]\n",
      "20 day input [0.63469253 0.61136426 0.6114032  0.61083849 0.62154847 0.67702613\n",
      " 0.65926705 0.64598668 0.62585193 0.61148109 0.59021693 0.59913541\n",
      " 0.59744129 0.5774039  0.58749075 0.58044164 0.57561242 0.58558243\n",
      " 0.60454882 0.56246836 0.54270359 0.52634654 0.53978268 0.54486505\n",
      " 0.55863224 0.57409355 0.58087783 0.58464774 0.5986486  0.56832963\n",
      " 0.57251626 0.59683764 0.60228999 0.57105581 0.6067687  0.62756553\n",
      " 0.610118   0.6059898  0.62370993 0.66584881 0.66866067 0.66047435\n",
      " 0.67250847 0.72185224 0.72418896 0.67640301 0.70019862 0.71978814\n",
      " 0.70284691 0.6861004  0.6680687  0.64894653 0.64742766 0.65315263\n",
      " 0.63134323 0.64107957 0.62787709 0.63445885 0.61806286 0.64002804\n",
      " 0.6565214  0.65603458 0.64723293 0.65416521 0.63570511 0.62137321\n",
      " 0.65778712 0.67036648 0.69071543 0.74155859 0.73657359 0.72839506\n",
      " 0.72263115 0.74031234 0.73758617 0.75028235 0.73193909 0.74428477\n",
      " 0.76480897 0.77995604 0.78182387 0.78526074 0.78980875 0.79496467\n",
      " 0.80034339 0.80570912 0.81094503 0.8160125  0.82091409 0.82567114\n",
      " 0.83031017 0.83485663 0.83933359 0.84376162 0.84815949 0.85254419\n",
      " 0.85693222 0.86133862 0.86577791 0.8702637 ]\n",
      "20 day output [[0.8748075]]\n",
      "21 day input [0.61136426 0.6114032  0.61083849 0.62154847 0.67702613 0.65926705\n",
      " 0.64598668 0.62585193 0.61148109 0.59021693 0.59913541 0.59744129\n",
      " 0.5774039  0.58749075 0.58044164 0.57561242 0.58558243 0.60454882\n",
      " 0.56246836 0.54270359 0.52634654 0.53978268 0.54486505 0.55863224\n",
      " 0.57409355 0.58087783 0.58464774 0.5986486  0.56832963 0.57251626\n",
      " 0.59683764 0.60228999 0.57105581 0.6067687  0.62756553 0.610118\n",
      " 0.6059898  0.62370993 0.66584881 0.66866067 0.66047435 0.67250847\n",
      " 0.72185224 0.72418896 0.67640301 0.70019862 0.71978814 0.70284691\n",
      " 0.6861004  0.6680687  0.64894653 0.64742766 0.65315263 0.63134323\n",
      " 0.64107957 0.62787709 0.63445885 0.61806286 0.64002804 0.6565214\n",
      " 0.65603458 0.64723293 0.65416521 0.63570511 0.62137321 0.65778712\n",
      " 0.67036648 0.69071543 0.74155859 0.73657359 0.72839506 0.72263115\n",
      " 0.74031234 0.73758617 0.75028235 0.73193909 0.74428477 0.76480897\n",
      " 0.77995604 0.78182387 0.78526074 0.78980875 0.79496467 0.80034339\n",
      " 0.80570912 0.81094503 0.8160125  0.82091409 0.82567114 0.83031017\n",
      " 0.83485663 0.83933359 0.84376162 0.84815949 0.85254419 0.85693222\n",
      " 0.86133862 0.86577791 0.8702637  0.87480748]\n",
      "21 day output [[0.87942076]]\n",
      "22 day input [0.6114032  0.61083849 0.62154847 0.67702613 0.65926705 0.64598668\n",
      " 0.62585193 0.61148109 0.59021693 0.59913541 0.59744129 0.5774039\n",
      " 0.58749075 0.58044164 0.57561242 0.58558243 0.60454882 0.56246836\n",
      " 0.54270359 0.52634654 0.53978268 0.54486505 0.55863224 0.57409355\n",
      " 0.58087783 0.58464774 0.5986486  0.56832963 0.57251626 0.59683764\n",
      " 0.60228999 0.57105581 0.6067687  0.62756553 0.610118   0.6059898\n",
      " 0.62370993 0.66584881 0.66866067 0.66047435 0.67250847 0.72185224\n",
      " 0.72418896 0.67640301 0.70019862 0.71978814 0.70284691 0.6861004\n",
      " 0.6680687  0.64894653 0.64742766 0.65315263 0.63134323 0.64107957\n",
      " 0.62787709 0.63445885 0.61806286 0.64002804 0.6565214  0.65603458\n",
      " 0.64723293 0.65416521 0.63570511 0.62137321 0.65778712 0.67036648\n",
      " 0.69071543 0.74155859 0.73657359 0.72839506 0.72263115 0.74031234\n",
      " 0.73758617 0.75028235 0.73193909 0.74428477 0.76480897 0.77995604\n",
      " 0.78182387 0.78526074 0.78980875 0.79496467 0.80034339 0.80570912\n",
      " 0.81094503 0.8160125  0.82091409 0.82567114 0.83031017 0.83485663\n",
      " 0.83933359 0.84376162 0.84815949 0.85254419 0.85693222 0.86133862\n",
      " 0.86577791 0.8702637  0.87480748 0.87942076]\n",
      "22 day output [[0.8841124]]\n",
      "23 day input [0.61083849 0.62154847 0.67702613 0.65926705 0.64598668 0.62585193\n",
      " 0.61148109 0.59021693 0.59913541 0.59744129 0.5774039  0.58749075\n",
      " 0.58044164 0.57561242 0.58558243 0.60454882 0.56246836 0.54270359\n",
      " 0.52634654 0.53978268 0.54486505 0.55863224 0.57409355 0.58087783\n",
      " 0.58464774 0.5986486  0.56832963 0.57251626 0.59683764 0.60228999\n",
      " 0.57105581 0.6067687  0.62756553 0.610118   0.6059898  0.62370993\n",
      " 0.66584881 0.66866067 0.66047435 0.67250847 0.72185224 0.72418896\n",
      " 0.67640301 0.70019862 0.71978814 0.70284691 0.6861004  0.6680687\n",
      " 0.64894653 0.64742766 0.65315263 0.63134323 0.64107957 0.62787709\n",
      " 0.63445885 0.61806286 0.64002804 0.6565214  0.65603458 0.64723293\n",
      " 0.65416521 0.63570511 0.62137321 0.65778712 0.67036648 0.69071543\n",
      " 0.74155859 0.73657359 0.72839506 0.72263115 0.74031234 0.73758617\n",
      " 0.75028235 0.73193909 0.74428477 0.76480897 0.77995604 0.78182387\n",
      " 0.78526074 0.78980875 0.79496467 0.80034339 0.80570912 0.81094503\n",
      " 0.8160125  0.82091409 0.82567114 0.83031017 0.83485663 0.83933359\n",
      " 0.84376162 0.84815949 0.85254419 0.85693222 0.86133862 0.86577791\n",
      " 0.8702637  0.87480748 0.87942076 0.88411242]\n",
      "23 day output [[0.8888904]]\n",
      "24 day input [0.62154847 0.67702613 0.65926705 0.64598668 0.62585193 0.61148109\n",
      " 0.59021693 0.59913541 0.59744129 0.5774039  0.58749075 0.58044164\n",
      " 0.57561242 0.58558243 0.60454882 0.56246836 0.54270359 0.52634654\n",
      " 0.53978268 0.54486505 0.55863224 0.57409355 0.58087783 0.58464774\n",
      " 0.5986486  0.56832963 0.57251626 0.59683764 0.60228999 0.57105581\n",
      " 0.6067687  0.62756553 0.610118   0.6059898  0.62370993 0.66584881\n",
      " 0.66866067 0.66047435 0.67250847 0.72185224 0.72418896 0.67640301\n",
      " 0.70019862 0.71978814 0.70284691 0.6861004  0.6680687  0.64894653\n",
      " 0.64742766 0.65315263 0.63134323 0.64107957 0.62787709 0.63445885\n",
      " 0.61806286 0.64002804 0.6565214  0.65603458 0.64723293 0.65416521\n",
      " 0.63570511 0.62137321 0.65778712 0.67036648 0.69071543 0.74155859\n",
      " 0.73657359 0.72839506 0.72263115 0.74031234 0.73758617 0.75028235\n",
      " 0.73193909 0.74428477 0.76480897 0.77995604 0.78182387 0.78526074\n",
      " 0.78980875 0.79496467 0.80034339 0.80570912 0.81094503 0.8160125\n",
      " 0.82091409 0.82567114 0.83031017 0.83485663 0.83933359 0.84376162\n",
      " 0.84815949 0.85254419 0.85693222 0.86133862 0.86577791 0.8702637\n",
      " 0.87480748 0.87942076 0.88411242 0.88889039]\n",
      "24 day output [[0.8937612]]\n",
      "25 day input [0.67702613 0.65926705 0.64598668 0.62585193 0.61148109 0.59021693\n",
      " 0.59913541 0.59744129 0.5774039  0.58749075 0.58044164 0.57561242\n",
      " 0.58558243 0.60454882 0.56246836 0.54270359 0.52634654 0.53978268\n",
      " 0.54486505 0.55863224 0.57409355 0.58087783 0.58464774 0.5986486\n",
      " 0.56832963 0.57251626 0.59683764 0.60228999 0.57105581 0.6067687\n",
      " 0.62756553 0.610118   0.6059898  0.62370993 0.66584881 0.66866067\n",
      " 0.66047435 0.67250847 0.72185224 0.72418896 0.67640301 0.70019862\n",
      " 0.71978814 0.70284691 0.6861004  0.6680687  0.64894653 0.64742766\n",
      " 0.65315263 0.63134323 0.64107957 0.62787709 0.63445885 0.61806286\n",
      " 0.64002804 0.6565214  0.65603458 0.64723293 0.65416521 0.63570511\n",
      " 0.62137321 0.65778712 0.67036648 0.69071543 0.74155859 0.73657359\n",
      " 0.72839506 0.72263115 0.74031234 0.73758617 0.75028235 0.73193909\n",
      " 0.74428477 0.76480897 0.77995604 0.78182387 0.78526074 0.78980875\n",
      " 0.79496467 0.80034339 0.80570912 0.81094503 0.8160125  0.82091409\n",
      " 0.82567114 0.83031017 0.83485663 0.83933359 0.84376162 0.84815949\n",
      " 0.85254419 0.85693222 0.86133862 0.86577791 0.8702637  0.87480748\n",
      " 0.87942076 0.88411242 0.88889039 0.89376122]\n",
      "25 day output [[0.8987292]]\n",
      "26 day input [0.65926705 0.64598668 0.62585193 0.61148109 0.59021693 0.59913541\n",
      " 0.59744129 0.5774039  0.58749075 0.58044164 0.57561242 0.58558243\n",
      " 0.60454882 0.56246836 0.54270359 0.52634654 0.53978268 0.54486505\n",
      " 0.55863224 0.57409355 0.58087783 0.58464774 0.5986486  0.56832963\n",
      " 0.57251626 0.59683764 0.60228999 0.57105581 0.6067687  0.62756553\n",
      " 0.610118   0.6059898  0.62370993 0.66584881 0.66866067 0.66047435\n",
      " 0.67250847 0.72185224 0.72418896 0.67640301 0.70019862 0.71978814\n",
      " 0.70284691 0.6861004  0.6680687  0.64894653 0.64742766 0.65315263\n",
      " 0.63134323 0.64107957 0.62787709 0.63445885 0.61806286 0.64002804\n",
      " 0.6565214  0.65603458 0.64723293 0.65416521 0.63570511 0.62137321\n",
      " 0.65778712 0.67036648 0.69071543 0.74155859 0.73657359 0.72839506\n",
      " 0.72263115 0.74031234 0.73758617 0.75028235 0.73193909 0.74428477\n",
      " 0.76480897 0.77995604 0.78182387 0.78526074 0.78980875 0.79496467\n",
      " 0.80034339 0.80570912 0.81094503 0.8160125  0.82091409 0.82567114\n",
      " 0.83031017 0.83485663 0.83933359 0.84376162 0.84815949 0.85254419\n",
      " 0.85693222 0.86133862 0.86577791 0.8702637  0.87480748 0.87942076\n",
      " 0.88411242 0.88889039 0.89376122 0.89872921]\n"
     ]
    },
    {
     "name": "stdout",
     "output_type": "stream",
     "text": [
      "26 day output [[0.90379703]]\n",
      "27 day input [0.64598668 0.62585193 0.61148109 0.59021693 0.59913541 0.59744129\n",
      " 0.5774039  0.58749075 0.58044164 0.57561242 0.58558243 0.60454882\n",
      " 0.56246836 0.54270359 0.52634654 0.53978268 0.54486505 0.55863224\n",
      " 0.57409355 0.58087783 0.58464774 0.5986486  0.56832963 0.57251626\n",
      " 0.59683764 0.60228999 0.57105581 0.6067687  0.62756553 0.610118\n",
      " 0.6059898  0.62370993 0.66584881 0.66866067 0.66047435 0.67250847\n",
      " 0.72185224 0.72418896 0.67640301 0.70019862 0.71978814 0.70284691\n",
      " 0.6861004  0.6680687  0.64894653 0.64742766 0.65315263 0.63134323\n",
      " 0.64107957 0.62787709 0.63445885 0.61806286 0.64002804 0.6565214\n",
      " 0.65603458 0.64723293 0.65416521 0.63570511 0.62137321 0.65778712\n",
      " 0.67036648 0.69071543 0.74155859 0.73657359 0.72839506 0.72263115\n",
      " 0.74031234 0.73758617 0.75028235 0.73193909 0.74428477 0.76480897\n",
      " 0.77995604 0.78182387 0.78526074 0.78980875 0.79496467 0.80034339\n",
      " 0.80570912 0.81094503 0.8160125  0.82091409 0.82567114 0.83031017\n",
      " 0.83485663 0.83933359 0.84376162 0.84815949 0.85254419 0.85693222\n",
      " 0.86133862 0.86577791 0.8702637  0.87480748 0.87942076 0.88411242\n",
      " 0.88889039 0.89376122 0.89872921 0.90379703]\n",
      "27 day output [[0.90896744]]\n",
      "28 day input [0.62585193 0.61148109 0.59021693 0.59913541 0.59744129 0.5774039\n",
      " 0.58749075 0.58044164 0.57561242 0.58558243 0.60454882 0.56246836\n",
      " 0.54270359 0.52634654 0.53978268 0.54486505 0.55863224 0.57409355\n",
      " 0.58087783 0.58464774 0.5986486  0.56832963 0.57251626 0.59683764\n",
      " 0.60228999 0.57105581 0.6067687  0.62756553 0.610118   0.6059898\n",
      " 0.62370993 0.66584881 0.66866067 0.66047435 0.67250847 0.72185224\n",
      " 0.72418896 0.67640301 0.70019862 0.71978814 0.70284691 0.6861004\n",
      " 0.6680687  0.64894653 0.64742766 0.65315263 0.63134323 0.64107957\n",
      " 0.62787709 0.63445885 0.61806286 0.64002804 0.6565214  0.65603458\n",
      " 0.64723293 0.65416521 0.63570511 0.62137321 0.65778712 0.67036648\n",
      " 0.69071543 0.74155859 0.73657359 0.72839506 0.72263115 0.74031234\n",
      " 0.73758617 0.75028235 0.73193909 0.74428477 0.76480897 0.77995604\n",
      " 0.78182387 0.78526074 0.78980875 0.79496467 0.80034339 0.80570912\n",
      " 0.81094503 0.8160125  0.82091409 0.82567114 0.83031017 0.83485663\n",
      " 0.83933359 0.84376162 0.84815949 0.85254419 0.85693222 0.86133862\n",
      " 0.86577791 0.8702637  0.87480748 0.87942076 0.88411242 0.88889039\n",
      " 0.89376122 0.89872921 0.90379703 0.90896744]\n",
      "28 day output [[0.9142401]]\n",
      "29 day input [0.61148109 0.59021693 0.59913541 0.59744129 0.5774039  0.58749075\n",
      " 0.58044164 0.57561242 0.58558243 0.60454882 0.56246836 0.54270359\n",
      " 0.52634654 0.53978268 0.54486505 0.55863224 0.57409355 0.58087783\n",
      " 0.58464774 0.5986486  0.56832963 0.57251626 0.59683764 0.60228999\n",
      " 0.57105581 0.6067687  0.62756553 0.610118   0.6059898  0.62370993\n",
      " 0.66584881 0.66866067 0.66047435 0.67250847 0.72185224 0.72418896\n",
      " 0.67640301 0.70019862 0.71978814 0.70284691 0.6861004  0.6680687\n",
      " 0.64894653 0.64742766 0.65315263 0.63134323 0.64107957 0.62787709\n",
      " 0.63445885 0.61806286 0.64002804 0.6565214  0.65603458 0.64723293\n",
      " 0.65416521 0.63570511 0.62137321 0.65778712 0.67036648 0.69071543\n",
      " 0.74155859 0.73657359 0.72839506 0.72263115 0.74031234 0.73758617\n",
      " 0.75028235 0.73193909 0.74428477 0.76480897 0.77995604 0.78182387\n",
      " 0.78526074 0.78980875 0.79496467 0.80034339 0.80570912 0.81094503\n",
      " 0.8160125  0.82091409 0.82567114 0.83031017 0.83485663 0.83933359\n",
      " 0.84376162 0.84815949 0.85254419 0.85693222 0.86133862 0.86577791\n",
      " 0.8702637  0.87480748 0.87942076 0.88411242 0.88889039 0.89376122\n",
      " 0.89872921 0.90379703 0.90896744 0.91424012]\n",
      "29 day output [[0.9196141]]\n",
      "[[0.7818238735198975], [0.7852607369422913], [0.7898087501525879], [0.7949646711349487], [0.80034339427948], [0.8057091236114502], [0.8109450340270996], [0.8160125017166138], [0.820914089679718], [0.8256711363792419], [0.8303101658821106], [0.8348566293716431], [0.8393335938453674], [0.8437616229057312], [0.8481594920158386], [0.8525441884994507], [0.8569322228431702], [0.8613386154174805], [0.8657779097557068], [0.8702636957168579], [0.8748074769973755], [0.8794207572937012], [0.8841124176979065], [0.8888903856277466], [0.8937612175941467], [0.8987292051315308], [0.9037970304489136], [0.9089674353599548], [0.9142401218414307], [0.9196140766143799]]\n"
     ]
    }
   ],
   "source": [
    "from numpy import array\n",
    "\n",
    "lst_output=[]\n",
    "n_steps=100\n",
    "i=0\n",
    "while(i<30):\n",
    "    \n",
    "    if(len(temp_input)>100):\n",
    "        #print(temp_input)\n",
    "        x_input=np.array(temp_input[1:])\n",
    "        print(\"{} day input {}\".format(i,x_input))\n",
    "        x_input=x_input.reshape(1,-1)\n",
    "        x_input = x_input.reshape((1, n_steps))\n",
    "        #print(x_input)\n",
    "        yhat = model.predict(x_input, verbose=0)\n",
    "        print(\"{} day output {}\".format(i,yhat))\n",
    "        temp_input.extend(yhat[0].tolist())\n",
    "        temp_input=temp_input[1:]\n",
    "        #print(temp_input)\n",
    "        lst_output.extend(yhat.tolist())\n",
    "        i=i+1\n",
    "    else:\n",
    "        x_input = x_input.reshape((1, n_steps))\n",
    "        yhat = model.predict(x_input, verbose=0)\n",
    "        print(yhat[0])\n",
    "        temp_input.extend(yhat[0].tolist())\n",
    "        print(len(temp_input))\n",
    "        lst_output.extend(yhat.tolist())\n",
    "        i=i+1\n",
    "    \n",
    "\n",
    "print(lst_output)"
   ]
  },
  {
   "cell_type": "code",
   "execution_count": 40,
   "metadata": {},
   "outputs": [],
   "source": [
    "day_new=np.arange(1,101)\n",
    "day_pred=np.arange(101,131)"
   ]
  },
  {
   "cell_type": "code",
   "execution_count": 41,
   "metadata": {},
   "outputs": [],
   "source": [
    "import matplotlib.pyplot as plt"
   ]
  },
  {
   "cell_type": "code",
   "execution_count": 42,
   "metadata": {},
   "outputs": [
    {
     "data": {
      "text/plain": [
       "1259"
      ]
     },
     "execution_count": 42,
     "metadata": {},
     "output_type": "execute_result"
    }
   ],
   "source": [
    "len(df2)"
   ]
  },
  {
   "cell_type": "code",
   "execution_count": 44,
   "metadata": {},
   "outputs": [
    {
     "data": {
      "text/plain": [
       "[<matplotlib.lines.Line2D at 0x1ef064b4730>]"
      ]
     },
     "execution_count": 44,
     "metadata": {},
     "output_type": "execute_result"
    },
    {
     "data": {
      "image/png": "[encoded data removed]",
      "text/plain": [
       "<Figure size 640x480 with 1 Axes>"
      ]
     },
     "metadata": {},
     "output_type": "display_data"
    }
   ],
   "source": [
    "plt.plot(day_new,scaler.inverse_transform(df2[1159:]))\n",
    "plt.plot(day_pred,scaler.inverse_transform(lst_output))"
   ]
  },
  {
   "cell_type": "code",
   "execution_count": 46,
   "metadata": {},
   "outputs": [
    {
     "data": {
      "text/plain": [
       "[<matplotlib.lines.Line2D at 0x1ef061208e0>]"
      ]
     },
     "execution_count": 46,
     "metadata": {},
     "output_type": "execute_result"
    },
    {
     "data": {
      "image/png": "[encoded data removed]",
      "text/plain": [
       "<Figure size 640x480 with 1 Axes>"
      ]
     },
     "metadata": {},
     "output_type": "display_data"
    }
   ],
   "source": [
    "df3=df2.tolist()\n",
    "df3.extend(lst_output)\n",
    "plt.plot(df3[1200:])"
   ]
  },
  {
   "cell_type": "code",
   "execution_count": 47,
   "metadata": {},
   "outputs": [],
   "source": [
    "df3=scaler.inverse_transform(df3).tolist()"
   ]
  },
  {
   "cell_type": "code",
   "execution_count": 48,
   "metadata": {},
   "outputs": [
    {
     "data": {
      "text/plain": [
       "[<matplotlib.lines.Line2D at 0x1ef0754bca0>]"
      ]
     },
     "execution_count": 48,
     "metadata": {},
     "output_type": "execute_result"
    },
    {
     "data": {
      "image/png": "[encoded data removed]",
      "text/plain": [
       "<Figure size 640x480 with 1 Axes>"
      ]
     },
     "metadata": {},
     "output_type": "display_data"
    }
   ],
   "source": [
    "plt.plot(df3)"
   ]
  },
  {
   "cell_type": "code",
   "execution_count": null,
   "metadata": {},
   "outputs": [],
   "source": []
  }
 ],
 "metadata": {
  "kernelspec": {
   "display_name": "Python 3 (ipykernel)",
   "language": "python",
   "name": "python3"
  },
  "language_info": {
   "codemirror_mode": {
    "name": "ipython",
    "version": 3
   },
   "file_extension": ".py",
   "mimetype": "text/x-python",
   "name": "python",
   "nbconvert_exporter": "python",
   "pygments_lexer": "ipython3",
   "version": "3.10.9"
  }
 },
 "nbformat": 4,
 "nbformat_minor": 2
}
